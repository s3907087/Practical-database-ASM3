{
 "cells": [
  {
   "cell_type": "code",
   "execution_count": 2,
   "metadata": {},
   "outputs": [],
   "source": [
    "import pandas as pd \n",
    "import numpy as np\n",
    "import seaborn as sns\n",
    "import matplotlib.pyplot as plt\n",
    "from datetime import datetime\n",
    "import os"
   ]
  },
  {
   "cell_type": "code",
   "execution_count": 3,
   "metadata": {},
   "outputs": [
    {
     "data": {
      "text/plain": [
       "Index(['Invoice', 'StockCode', 'Description', 'Quantity', 'InvoiceDate',\n",
       "       'Price', 'Customer ID', 'Country'],\n",
       "      dtype='object')"
      ]
     },
     "execution_count": 3,
     "metadata": {},
     "output_type": "execute_result"
    }
   ],
   "source": [
    "dt = pd.concat(pd.read_excel(\"../data/online_retail_II.xlsx\", sheet_name=None).values())\n",
    "dt.columns"
   ]
  },
  {
   "cell_type": "markdown",
   "metadata": {},
   "source": [
    "## Exploratory data analysis\n",
    "#### This data set contains of 1067371 entries and 8 columns:\n",
    "* Invoice: Invoice number. Nominal. A 6-digit integer uniquely assigned to each transaction. If this code begins with the letter 'c' then it indicates cancellation.\n",
    "* StockCode: Product code (item). Nominal. A 5-digit integer uniquely assigned to each individual product.\n",
    "* Description: Product name (item). Nominal.\n",
    "* Quantity: Quantity of each product (item) per transaction. Number.\n",
    "* InvoiceDate: Invoice date and time. Number. Date and time when the transaction was created.\n",
    "* Price: Unit price. Number. Product price per unit is in British pounds (£).\n",
    "* Customer ID: Customer code. Nominal. A 5-digit integer uniquely assigned to each customer.\n",
    "* Country: Country name. Nominal. Name of the country where the customer resides."
   ]
  },
  {
   "cell_type": "code",
   "execution_count": 4,
   "metadata": {},
   "outputs": [
    {
     "data": {
      "text/plain": [
       "(1067371, 8)"
      ]
     },
     "execution_count": 4,
     "metadata": {},
     "output_type": "execute_result"
    }
   ],
   "source": [
    "dt.shape"
   ]
  },
  {
   "cell_type": "markdown",
   "metadata": {},
   "source": [
    "#### Display the first 10 rows of data"
   ]
  },
  {
   "cell_type": "code",
   "execution_count": 5,
   "metadata": {},
   "outputs": [
    {
     "data": {
      "text/html": [
       "<div>\n",
       "<style scoped>\n",
       "    .dataframe tbody tr th:only-of-type {\n",
       "        vertical-align: middle;\n",
       "    }\n",
       "\n",
       "    .dataframe tbody tr th {\n",
       "        vertical-align: top;\n",
       "    }\n",
       "\n",
       "    .dataframe thead th {\n",
       "        text-align: right;\n",
       "    }\n",
       "</style>\n",
       "<table border=\"1\" class=\"dataframe\">\n",
       "  <thead>\n",
       "    <tr style=\"text-align: right;\">\n",
       "      <th></th>\n",
       "      <th>Invoice</th>\n",
       "      <th>StockCode</th>\n",
       "      <th>Description</th>\n",
       "      <th>Quantity</th>\n",
       "      <th>InvoiceDate</th>\n",
       "      <th>Price</th>\n",
       "      <th>Customer ID</th>\n",
       "      <th>Country</th>\n",
       "    </tr>\n",
       "  </thead>\n",
       "  <tbody>\n",
       "    <tr>\n",
       "      <th>0</th>\n",
       "      <td>489434</td>\n",
       "      <td>85048</td>\n",
       "      <td>15CM CHRISTMAS GLASS BALL 20 LIGHTS</td>\n",
       "      <td>12</td>\n",
       "      <td>2009-12-01 07:45:00</td>\n",
       "      <td>6.95</td>\n",
       "      <td>13085.0</td>\n",
       "      <td>United Kingdom</td>\n",
       "    </tr>\n",
       "    <tr>\n",
       "      <th>1</th>\n",
       "      <td>489434</td>\n",
       "      <td>79323P</td>\n",
       "      <td>PINK CHERRY LIGHTS</td>\n",
       "      <td>12</td>\n",
       "      <td>2009-12-01 07:45:00</td>\n",
       "      <td>6.75</td>\n",
       "      <td>13085.0</td>\n",
       "      <td>United Kingdom</td>\n",
       "    </tr>\n",
       "    <tr>\n",
       "      <th>2</th>\n",
       "      <td>489434</td>\n",
       "      <td>79323W</td>\n",
       "      <td>WHITE CHERRY LIGHTS</td>\n",
       "      <td>12</td>\n",
       "      <td>2009-12-01 07:45:00</td>\n",
       "      <td>6.75</td>\n",
       "      <td>13085.0</td>\n",
       "      <td>United Kingdom</td>\n",
       "    </tr>\n",
       "    <tr>\n",
       "      <th>3</th>\n",
       "      <td>489434</td>\n",
       "      <td>22041</td>\n",
       "      <td>RECORD FRAME 7\" SINGLE SIZE</td>\n",
       "      <td>48</td>\n",
       "      <td>2009-12-01 07:45:00</td>\n",
       "      <td>2.10</td>\n",
       "      <td>13085.0</td>\n",
       "      <td>United Kingdom</td>\n",
       "    </tr>\n",
       "    <tr>\n",
       "      <th>4</th>\n",
       "      <td>489434</td>\n",
       "      <td>21232</td>\n",
       "      <td>STRAWBERRY CERAMIC TRINKET BOX</td>\n",
       "      <td>24</td>\n",
       "      <td>2009-12-01 07:45:00</td>\n",
       "      <td>1.25</td>\n",
       "      <td>13085.0</td>\n",
       "      <td>United Kingdom</td>\n",
       "    </tr>\n",
       "    <tr>\n",
       "      <th>5</th>\n",
       "      <td>489434</td>\n",
       "      <td>22064</td>\n",
       "      <td>PINK DOUGHNUT TRINKET POT</td>\n",
       "      <td>24</td>\n",
       "      <td>2009-12-01 07:45:00</td>\n",
       "      <td>1.65</td>\n",
       "      <td>13085.0</td>\n",
       "      <td>United Kingdom</td>\n",
       "    </tr>\n",
       "    <tr>\n",
       "      <th>6</th>\n",
       "      <td>489434</td>\n",
       "      <td>21871</td>\n",
       "      <td>SAVE THE PLANET MUG</td>\n",
       "      <td>24</td>\n",
       "      <td>2009-12-01 07:45:00</td>\n",
       "      <td>1.25</td>\n",
       "      <td>13085.0</td>\n",
       "      <td>United Kingdom</td>\n",
       "    </tr>\n",
       "    <tr>\n",
       "      <th>7</th>\n",
       "      <td>489434</td>\n",
       "      <td>21523</td>\n",
       "      <td>FANCY FONT HOME SWEET HOME DOORMAT</td>\n",
       "      <td>10</td>\n",
       "      <td>2009-12-01 07:45:00</td>\n",
       "      <td>5.95</td>\n",
       "      <td>13085.0</td>\n",
       "      <td>United Kingdom</td>\n",
       "    </tr>\n",
       "    <tr>\n",
       "      <th>8</th>\n",
       "      <td>489435</td>\n",
       "      <td>22350</td>\n",
       "      <td>CAT BOWL</td>\n",
       "      <td>12</td>\n",
       "      <td>2009-12-01 07:46:00</td>\n",
       "      <td>2.55</td>\n",
       "      <td>13085.0</td>\n",
       "      <td>United Kingdom</td>\n",
       "    </tr>\n",
       "    <tr>\n",
       "      <th>9</th>\n",
       "      <td>489435</td>\n",
       "      <td>22349</td>\n",
       "      <td>DOG BOWL , CHASING BALL DESIGN</td>\n",
       "      <td>12</td>\n",
       "      <td>2009-12-01 07:46:00</td>\n",
       "      <td>3.75</td>\n",
       "      <td>13085.0</td>\n",
       "      <td>United Kingdom</td>\n",
       "    </tr>\n",
       "  </tbody>\n",
       "</table>\n",
       "</div>"
      ],
      "text/plain": [
       "  Invoice StockCode                          Description  Quantity  \\\n",
       "0  489434     85048  15CM CHRISTMAS GLASS BALL 20 LIGHTS        12   \n",
       "1  489434    79323P                   PINK CHERRY LIGHTS        12   \n",
       "2  489434    79323W                  WHITE CHERRY LIGHTS        12   \n",
       "3  489434     22041         RECORD FRAME 7\" SINGLE SIZE         48   \n",
       "4  489434     21232       STRAWBERRY CERAMIC TRINKET BOX        24   \n",
       "5  489434     22064           PINK DOUGHNUT TRINKET POT         24   \n",
       "6  489434     21871                  SAVE THE PLANET MUG        24   \n",
       "7  489434     21523   FANCY FONT HOME SWEET HOME DOORMAT        10   \n",
       "8  489435     22350                            CAT BOWL         12   \n",
       "9  489435     22349       DOG BOWL , CHASING BALL DESIGN        12   \n",
       "\n",
       "          InvoiceDate  Price  Customer ID         Country  \n",
       "0 2009-12-01 07:45:00   6.95      13085.0  United Kingdom  \n",
       "1 2009-12-01 07:45:00   6.75      13085.0  United Kingdom  \n",
       "2 2009-12-01 07:45:00   6.75      13085.0  United Kingdom  \n",
       "3 2009-12-01 07:45:00   2.10      13085.0  United Kingdom  \n",
       "4 2009-12-01 07:45:00   1.25      13085.0  United Kingdom  \n",
       "5 2009-12-01 07:45:00   1.65      13085.0  United Kingdom  \n",
       "6 2009-12-01 07:45:00   1.25      13085.0  United Kingdom  \n",
       "7 2009-12-01 07:45:00   5.95      13085.0  United Kingdom  \n",
       "8 2009-12-01 07:46:00   2.55      13085.0  United Kingdom  \n",
       "9 2009-12-01 07:46:00   3.75      13085.0  United Kingdom  "
      ]
     },
     "execution_count": 5,
     "metadata": {},
     "output_type": "execute_result"
    }
   ],
   "source": [
    "dt.head(10)"
   ]
  },
  {
   "cell_type": "markdown",
   "metadata": {},
   "source": [
    "#### Display 10 random rows of the data to check for cleanliness of the data set"
   ]
  },
  {
   "cell_type": "code",
   "execution_count": 6,
   "metadata": {},
   "outputs": [
    {
     "data": {
      "text/html": [
       "<div>\n",
       "<style scoped>\n",
       "    .dataframe tbody tr th:only-of-type {\n",
       "        vertical-align: middle;\n",
       "    }\n",
       "\n",
       "    .dataframe tbody tr th {\n",
       "        vertical-align: top;\n",
       "    }\n",
       "\n",
       "    .dataframe thead th {\n",
       "        text-align: right;\n",
       "    }\n",
       "</style>\n",
       "<table border=\"1\" class=\"dataframe\">\n",
       "  <thead>\n",
       "    <tr style=\"text-align: right;\">\n",
       "      <th></th>\n",
       "      <th>Invoice</th>\n",
       "      <th>StockCode</th>\n",
       "      <th>Description</th>\n",
       "      <th>Quantity</th>\n",
       "      <th>InvoiceDate</th>\n",
       "      <th>Price</th>\n",
       "      <th>Customer ID</th>\n",
       "      <th>Country</th>\n",
       "    </tr>\n",
       "  </thead>\n",
       "  <tbody>\n",
       "    <tr>\n",
       "      <th>379136</th>\n",
       "      <td>525928</td>\n",
       "      <td>22413</td>\n",
       "      <td>METAL SIGN TAKE IT OR LEAVE IT</td>\n",
       "      <td>1</td>\n",
       "      <td>2010-10-07 16:48:00</td>\n",
       "      <td>2.95</td>\n",
       "      <td>16072.0</td>\n",
       "      <td>United Kingdom</td>\n",
       "    </tr>\n",
       "    <tr>\n",
       "      <th>483676</th>\n",
       "      <td>577506</td>\n",
       "      <td>20685</td>\n",
       "      <td>DOORMAT RED RETROSPOT</td>\n",
       "      <td>1</td>\n",
       "      <td>2011-11-20 12:40:00</td>\n",
       "      <td>8.25</td>\n",
       "      <td>13212.0</td>\n",
       "      <td>United Kingdom</td>\n",
       "    </tr>\n",
       "    <tr>\n",
       "      <th>317009</th>\n",
       "      <td>564757</td>\n",
       "      <td>23287</td>\n",
       "      <td>RED VINTAGE SPOT BEAKER</td>\n",
       "      <td>1</td>\n",
       "      <td>2011-08-30 10:36:00</td>\n",
       "      <td>1.63</td>\n",
       "      <td>NaN</td>\n",
       "      <td>United Kingdom</td>\n",
       "    </tr>\n",
       "    <tr>\n",
       "      <th>189649</th>\n",
       "      <td>507388</td>\n",
       "      <td>35970</td>\n",
       "      <td>ZINC FOLKART SLEIGH BELLS</td>\n",
       "      <td>6</td>\n",
       "      <td>2010-05-09 12:12:00</td>\n",
       "      <td>1.69</td>\n",
       "      <td>14474.0</td>\n",
       "      <td>United Kingdom</td>\n",
       "    </tr>\n",
       "    <tr>\n",
       "      <th>354532</th>\n",
       "      <td>567882</td>\n",
       "      <td>23309</td>\n",
       "      <td>SET OF 60 I LOVE LONDON CAKE CASES</td>\n",
       "      <td>48</td>\n",
       "      <td>2011-09-22 15:03:00</td>\n",
       "      <td>0.55</td>\n",
       "      <td>12906.0</td>\n",
       "      <td>United Kingdom</td>\n",
       "    </tr>\n",
       "    <tr>\n",
       "      <th>322677</th>\n",
       "      <td>520825</td>\n",
       "      <td>21738</td>\n",
       "      <td>COSY SLIPPER SHOES SMALL  RED</td>\n",
       "      <td>2</td>\n",
       "      <td>2010-08-31 12:35:00</td>\n",
       "      <td>2.95</td>\n",
       "      <td>14433.0</td>\n",
       "      <td>United Kingdom</td>\n",
       "    </tr>\n",
       "    <tr>\n",
       "      <th>453760</th>\n",
       "      <td>532494</td>\n",
       "      <td>22531</td>\n",
       "      <td>MAGIC DRAWING SLATE CIRCUS PARADE</td>\n",
       "      <td>2</td>\n",
       "      <td>2010-11-12 11:47:00</td>\n",
       "      <td>0.42</td>\n",
       "      <td>14082.0</td>\n",
       "      <td>United Kingdom</td>\n",
       "    </tr>\n",
       "    <tr>\n",
       "      <th>110066</th>\n",
       "      <td>499968</td>\n",
       "      <td>21082</td>\n",
       "      <td>SET/20 FRUIT SALAD PAPER NAPKINS</td>\n",
       "      <td>12</td>\n",
       "      <td>2010-03-03 14:10:00</td>\n",
       "      <td>0.85</td>\n",
       "      <td>13214.0</td>\n",
       "      <td>United Kingdom</td>\n",
       "    </tr>\n",
       "    <tr>\n",
       "      <th>72163</th>\n",
       "      <td>495936</td>\n",
       "      <td>21162</td>\n",
       "      <td>TOXIC AREA  DOOR HANGER</td>\n",
       "      <td>12</td>\n",
       "      <td>2010-01-27 15:39:00</td>\n",
       "      <td>1.45</td>\n",
       "      <td>17865.0</td>\n",
       "      <td>United Kingdom</td>\n",
       "    </tr>\n",
       "    <tr>\n",
       "      <th>169855</th>\n",
       "      <td>551268</td>\n",
       "      <td>22719</td>\n",
       "      <td>GUMBALL MONOCHROME COAT RACK</td>\n",
       "      <td>1</td>\n",
       "      <td>2011-04-27 12:08:00</td>\n",
       "      <td>1.25</td>\n",
       "      <td>16965.0</td>\n",
       "      <td>United Kingdom</td>\n",
       "    </tr>\n",
       "  </tbody>\n",
       "</table>\n",
       "</div>"
      ],
      "text/plain": [
       "       Invoice StockCode                          Description  Quantity  \\\n",
       "379136  525928     22413      METAL SIGN TAKE IT OR LEAVE IT          1   \n",
       "483676  577506     20685                DOORMAT RED RETROSPOT         1   \n",
       "317009  564757     23287              RED VINTAGE SPOT BEAKER         1   \n",
       "189649  507388     35970            ZINC FOLKART SLEIGH BELLS         6   \n",
       "354532  567882     23309  SET OF 60 I LOVE LONDON CAKE CASES         48   \n",
       "322677  520825     21738       COSY SLIPPER SHOES SMALL  RED          2   \n",
       "453760  532494     22531  MAGIC DRAWING SLATE CIRCUS PARADE           2   \n",
       "110066  499968     21082    SET/20 FRUIT SALAD PAPER NAPKINS         12   \n",
       "72163   495936     21162             TOXIC AREA  DOOR HANGER         12   \n",
       "169855  551268     22719         GUMBALL MONOCHROME COAT RACK         1   \n",
       "\n",
       "               InvoiceDate  Price  Customer ID         Country  \n",
       "379136 2010-10-07 16:48:00   2.95      16072.0  United Kingdom  \n",
       "483676 2011-11-20 12:40:00   8.25      13212.0  United Kingdom  \n",
       "317009 2011-08-30 10:36:00   1.63          NaN  United Kingdom  \n",
       "189649 2010-05-09 12:12:00   1.69      14474.0  United Kingdom  \n",
       "354532 2011-09-22 15:03:00   0.55      12906.0  United Kingdom  \n",
       "322677 2010-08-31 12:35:00   2.95      14433.0  United Kingdom  \n",
       "453760 2010-11-12 11:47:00   0.42      14082.0  United Kingdom  \n",
       "110066 2010-03-03 14:10:00   0.85      13214.0  United Kingdom  \n",
       "72163  2010-01-27 15:39:00   1.45      17865.0  United Kingdom  \n",
       "169855 2011-04-27 12:08:00   1.25      16965.0  United Kingdom  "
      ]
     },
     "execution_count": 6,
     "metadata": {},
     "output_type": "execute_result"
    }
   ],
   "source": [
    "dt.sample(10)"
   ]
  },
  {
   "cell_type": "markdown",
   "metadata": {},
   "source": [
    "#### What we can observe from this is that there are missing values in **CustomerID** column. Upon further inspection with the *.info()* function, we can see that there are also missing values in the **Description** column"
   ]
  },
  {
   "cell_type": "code",
   "execution_count": 7,
   "metadata": {},
   "outputs": [
    {
     "name": "stdout",
     "output_type": "stream",
     "text": [
      "<class 'pandas.core.frame.DataFrame'>\n",
      "Index: 1067371 entries, 0 to 541909\n",
      "Data columns (total 8 columns):\n",
      " #   Column       Non-Null Count    Dtype         \n",
      "---  ------       --------------    -----         \n",
      " 0   Invoice      1067371 non-null  object        \n",
      " 1   StockCode    1067371 non-null  object        \n",
      " 2   Description  1062989 non-null  object        \n",
      " 3   Quantity     1067371 non-null  int64         \n",
      " 4   InvoiceDate  1067371 non-null  datetime64[ns]\n",
      " 5   Price        1067371 non-null  float64       \n",
      " 6   Customer ID  824364 non-null   float64       \n",
      " 7   Country      1067371 non-null  object        \n",
      "dtypes: datetime64[ns](1), float64(2), int64(1), object(4)\n",
      "memory usage: 73.3+ MB\n"
     ]
    }
   ],
   "source": [
    "dt.info()"
   ]
  },
  {
   "cell_type": "markdown",
   "metadata": {},
   "source": [
    "#### In fact, almost 20% of the rows are missing with **CustomerID** values which is a huge number and can greatly affect the result of this analysis. Another problem is that the data type of **CustomerID** should be int with 5 digits rather that float type. Aside from that, the data seems to be cleaned."
   ]
  },
  {
   "cell_type": "markdown",
   "metadata": {},
   "source": [
    "#### We then use the *.describe()* funtion to show the summary statistics such as *mean, median, quarticles,...* for the numerical columns, specifically the **Quantity** and the **Price** columns. These 2 columns have the minimum values to be negative which is impossible siince you cannot than 0 items or/and for negative price."
   ]
  },
  {
   "cell_type": "code",
   "execution_count": 8,
   "metadata": {},
   "outputs": [
    {
     "data": {
      "text/html": [
       "<div>\n",
       "<style scoped>\n",
       "    .dataframe tbody tr th:only-of-type {\n",
       "        vertical-align: middle;\n",
       "    }\n",
       "\n",
       "    .dataframe tbody tr th {\n",
       "        vertical-align: top;\n",
       "    }\n",
       "\n",
       "    .dataframe thead th {\n",
       "        text-align: right;\n",
       "    }\n",
       "</style>\n",
       "<table border=\"1\" class=\"dataframe\">\n",
       "  <thead>\n",
       "    <tr style=\"text-align: right;\">\n",
       "      <th></th>\n",
       "      <th>Quantity</th>\n",
       "      <th>Price</th>\n",
       "    </tr>\n",
       "  </thead>\n",
       "  <tbody>\n",
       "    <tr>\n",
       "      <th>count</th>\n",
       "      <td>1.067371e+06</td>\n",
       "      <td>1.067371e+06</td>\n",
       "    </tr>\n",
       "    <tr>\n",
       "      <th>mean</th>\n",
       "      <td>9.938898e+00</td>\n",
       "      <td>4.649388e+00</td>\n",
       "    </tr>\n",
       "    <tr>\n",
       "      <th>std</th>\n",
       "      <td>1.727058e+02</td>\n",
       "      <td>1.235531e+02</td>\n",
       "    </tr>\n",
       "    <tr>\n",
       "      <th>min</th>\n",
       "      <td>-8.099500e+04</td>\n",
       "      <td>-5.359436e+04</td>\n",
       "    </tr>\n",
       "    <tr>\n",
       "      <th>25%</th>\n",
       "      <td>1.000000e+00</td>\n",
       "      <td>1.250000e+00</td>\n",
       "    </tr>\n",
       "    <tr>\n",
       "      <th>50%</th>\n",
       "      <td>3.000000e+00</td>\n",
       "      <td>2.100000e+00</td>\n",
       "    </tr>\n",
       "    <tr>\n",
       "      <th>75%</th>\n",
       "      <td>1.000000e+01</td>\n",
       "      <td>4.150000e+00</td>\n",
       "    </tr>\n",
       "    <tr>\n",
       "      <th>max</th>\n",
       "      <td>8.099500e+04</td>\n",
       "      <td>3.897000e+04</td>\n",
       "    </tr>\n",
       "  </tbody>\n",
       "</table>\n",
       "</div>"
      ],
      "text/plain": [
       "           Quantity         Price\n",
       "count  1.067371e+06  1.067371e+06\n",
       "mean   9.938898e+00  4.649388e+00\n",
       "std    1.727058e+02  1.235531e+02\n",
       "min   -8.099500e+04 -5.359436e+04\n",
       "25%    1.000000e+00  1.250000e+00\n",
       "50%    3.000000e+00  2.100000e+00\n",
       "75%    1.000000e+01  4.150000e+00\n",
       "max    8.099500e+04  3.897000e+04"
      ]
     },
     "execution_count": 8,
     "metadata": {},
     "output_type": "execute_result"
    }
   ],
   "source": [
    "dt[[\"Quantity\", \"Price\"]].describe()"
   ]
  },
  {
   "cell_type": "markdown",
   "metadata": {},
   "source": [
    "#### We then move to the non-numerical columns with unique values which is the **Country** column. The functions return 43 indicates that there are 43 countries in this column and most of them are from Europe."
   ]
  },
  {
   "cell_type": "code",
   "execution_count": 9,
   "metadata": {},
   "outputs": [
    {
     "data": {
      "text/plain": [
       "43"
      ]
     },
     "execution_count": 9,
     "metadata": {},
     "output_type": "execute_result"
    }
   ],
   "source": [
    "dt[\"Country\"].nunique()"
   ]
  },
  {
   "cell_type": "code",
   "execution_count": 10,
   "metadata": {},
   "outputs": [
    {
     "data": {
      "text/plain": [
       "array(['United Kingdom', 'France', 'USA', 'Belgium', 'Australia', 'EIRE',\n",
       "       'Germany', 'Portugal', 'Japan', 'Denmark', 'Nigeria',\n",
       "       'Netherlands', 'Poland', 'Spain', 'Channel Islands', 'Italy',\n",
       "       'Cyprus', 'Greece', 'Norway', 'Austria', 'Sweden',\n",
       "       'United Arab Emirates', 'Finland', 'Switzerland', 'Unspecified',\n",
       "       'Malta', 'Bahrain', 'RSA', 'Bermuda', 'Hong Kong', 'Singapore',\n",
       "       'Thailand', 'Israel', 'Lithuania', 'West Indies', 'Lebanon',\n",
       "       'Korea', 'Brazil', 'Canada', 'Iceland', 'Saudi Arabia',\n",
       "       'Czech Republic', 'European Community'], dtype=object)"
      ]
     },
     "execution_count": 10,
     "metadata": {},
     "output_type": "execute_result"
    }
   ],
   "source": [
    "dt[\"Country\"].unique()"
   ]
  },
  {
   "cell_type": "markdown",
   "metadata": {},
   "source": [
    "#### Almost 92% of the transaction are coming from United Kingdom."
   ]
  },
  {
   "cell_type": "code",
   "execution_count": 11,
   "metadata": {},
   "outputs": [
    {
     "data": {
      "text/plain": [
       "Country\n",
       "United Kingdom    91.938979\n",
       "EIRE               1.673832\n",
       "Germany            1.651160\n",
       "France             1.342551\n",
       "Netherlands        0.481557\n",
       "Spain              0.357045\n",
       "Switzerland        0.298771\n",
       "Belgium            0.292588\n",
       "Portugal           0.245463\n",
       "Australia          0.179225\n",
       "Name: proportion, dtype: float64"
      ]
     },
     "execution_count": 11,
     "metadata": {},
     "output_type": "execute_result"
    }
   ],
   "source": [
    "dt[\"Country\"].value_counts(normalize=True).head(10) * 100"
   ]
  },
  {
   "cell_type": "markdown",
   "metadata": {},
   "source": [
    "#### There are some missing values in column **Description** and **CustomerID**. "
   ]
  },
  {
   "cell_type": "markdown",
   "metadata": {},
   "source": [
    "#### We will start dealing with the missing values in **Description** column."
   ]
  },
  {
   "cell_type": "code",
   "execution_count": 12,
   "metadata": {},
   "outputs": [
    {
     "data": {
      "text/plain": [
       "0.4105414143723223"
      ]
     },
     "execution_count": 12,
     "metadata": {},
     "output_type": "execute_result"
    }
   ],
   "source": [
    "dt[\"Description\"].isnull().mean() * 100"
   ]
  },
  {
   "cell_type": "markdown",
   "metadata": {},
   "source": [
    "#### 0.41% of the **Description** column have missing values."
   ]
  },
  {
   "cell_type": "code",
   "execution_count": 13,
   "metadata": {},
   "outputs": [
    {
     "data": {
      "text/html": [
       "<div>\n",
       "<style scoped>\n",
       "    .dataframe tbody tr th:only-of-type {\n",
       "        vertical-align: middle;\n",
       "    }\n",
       "\n",
       "    .dataframe tbody tr th {\n",
       "        vertical-align: top;\n",
       "    }\n",
       "\n",
       "    .dataframe thead th {\n",
       "        text-align: right;\n",
       "    }\n",
       "</style>\n",
       "<table border=\"1\" class=\"dataframe\">\n",
       "  <thead>\n",
       "    <tr style=\"text-align: right;\">\n",
       "      <th></th>\n",
       "      <th>Invoice</th>\n",
       "      <th>StockCode</th>\n",
       "      <th>Description</th>\n",
       "      <th>Quantity</th>\n",
       "      <th>InvoiceDate</th>\n",
       "      <th>Price</th>\n",
       "      <th>Customer ID</th>\n",
       "      <th>Country</th>\n",
       "    </tr>\n",
       "  </thead>\n",
       "  <tbody>\n",
       "    <tr>\n",
       "      <th>142006</th>\n",
       "      <td>548538</td>\n",
       "      <td>90082B</td>\n",
       "      <td>NaN</td>\n",
       "      <td>3</td>\n",
       "      <td>2011-03-31 17:36:00</td>\n",
       "      <td>0.0</td>\n",
       "      <td>NaN</td>\n",
       "      <td>United Kingdom</td>\n",
       "    </tr>\n",
       "    <tr>\n",
       "      <th>82266</th>\n",
       "      <td>496942</td>\n",
       "      <td>84425A</td>\n",
       "      <td>NaN</td>\n",
       "      <td>9</td>\n",
       "      <td>2010-02-04 17:22:00</td>\n",
       "      <td>0.0</td>\n",
       "      <td>NaN</td>\n",
       "      <td>United Kingdom</td>\n",
       "    </tr>\n",
       "    <tr>\n",
       "      <th>184329</th>\n",
       "      <td>506955</td>\n",
       "      <td>16050</td>\n",
       "      <td>NaN</td>\n",
       "      <td>-843</td>\n",
       "      <td>2010-05-05 11:45:00</td>\n",
       "      <td>0.0</td>\n",
       "      <td>NaN</td>\n",
       "      <td>United Kingdom</td>\n",
       "    </tr>\n",
       "    <tr>\n",
       "      <th>81146</th>\n",
       "      <td>496857</td>\n",
       "      <td>21104</td>\n",
       "      <td>NaN</td>\n",
       "      <td>-5</td>\n",
       "      <td>2010-02-04 11:50:00</td>\n",
       "      <td>0.0</td>\n",
       "      <td>NaN</td>\n",
       "      <td>United Kingdom</td>\n",
       "    </tr>\n",
       "    <tr>\n",
       "      <th>21553</th>\n",
       "      <td>538092</td>\n",
       "      <td>37467</td>\n",
       "      <td>NaN</td>\n",
       "      <td>-177</td>\n",
       "      <td>2010-12-09 14:49:00</td>\n",
       "      <td>0.0</td>\n",
       "      <td>NaN</td>\n",
       "      <td>United Kingdom</td>\n",
       "    </tr>\n",
       "    <tr>\n",
       "      <th>383714</th>\n",
       "      <td>526253</td>\n",
       "      <td>22692</td>\n",
       "      <td>NaN</td>\n",
       "      <td>2</td>\n",
       "      <td>2010-10-11 10:24:00</td>\n",
       "      <td>0.0</td>\n",
       "      <td>NaN</td>\n",
       "      <td>United Kingdom</td>\n",
       "    </tr>\n",
       "    <tr>\n",
       "      <th>82420</th>\n",
       "      <td>496958</td>\n",
       "      <td>85207B</td>\n",
       "      <td>NaN</td>\n",
       "      <td>-7</td>\n",
       "      <td>2010-02-04 19:09:00</td>\n",
       "      <td>0.0</td>\n",
       "      <td>NaN</td>\n",
       "      <td>United Kingdom</td>\n",
       "    </tr>\n",
       "    <tr>\n",
       "      <th>166508</th>\n",
       "      <td>550926</td>\n",
       "      <td>22469</td>\n",
       "      <td>NaN</td>\n",
       "      <td>8</td>\n",
       "      <td>2011-04-21 14:39:00</td>\n",
       "      <td>0.0</td>\n",
       "      <td>NaN</td>\n",
       "      <td>United Kingdom</td>\n",
       "    </tr>\n",
       "    <tr>\n",
       "      <th>88564</th>\n",
       "      <td>497718</td>\n",
       "      <td>35837</td>\n",
       "      <td>NaN</td>\n",
       "      <td>-15</td>\n",
       "      <td>2010-02-11 18:09:00</td>\n",
       "      <td>0.0</td>\n",
       "      <td>NaN</td>\n",
       "      <td>United Kingdom</td>\n",
       "    </tr>\n",
       "    <tr>\n",
       "      <th>307124</th>\n",
       "      <td>519375</td>\n",
       "      <td>21900</td>\n",
       "      <td>NaN</td>\n",
       "      <td>-1520</td>\n",
       "      <td>2010-08-16 13:28:00</td>\n",
       "      <td>0.0</td>\n",
       "      <td>NaN</td>\n",
       "      <td>United Kingdom</td>\n",
       "    </tr>\n",
       "  </tbody>\n",
       "</table>\n",
       "</div>"
      ],
      "text/plain": [
       "       Invoice StockCode Description  Quantity         InvoiceDate  Price  \\\n",
       "142006  548538    90082B         NaN         3 2011-03-31 17:36:00    0.0   \n",
       "82266   496942    84425A         NaN         9 2010-02-04 17:22:00    0.0   \n",
       "184329  506955     16050         NaN      -843 2010-05-05 11:45:00    0.0   \n",
       "81146   496857     21104         NaN        -5 2010-02-04 11:50:00    0.0   \n",
       "21553   538092     37467         NaN      -177 2010-12-09 14:49:00    0.0   \n",
       "383714  526253     22692         NaN         2 2010-10-11 10:24:00    0.0   \n",
       "82420   496958    85207B         NaN        -7 2010-02-04 19:09:00    0.0   \n",
       "166508  550926     22469         NaN         8 2011-04-21 14:39:00    0.0   \n",
       "88564   497718     35837         NaN       -15 2010-02-11 18:09:00    0.0   \n",
       "307124  519375     21900         NaN     -1520 2010-08-16 13:28:00    0.0   \n",
       "\n",
       "        Customer ID         Country  \n",
       "142006          NaN  United Kingdom  \n",
       "82266           NaN  United Kingdom  \n",
       "184329          NaN  United Kingdom  \n",
       "81146           NaN  United Kingdom  \n",
       "21553           NaN  United Kingdom  \n",
       "383714          NaN  United Kingdom  \n",
       "82420           NaN  United Kingdom  \n",
       "166508          NaN  United Kingdom  \n",
       "88564           NaN  United Kingdom  \n",
       "307124          NaN  United Kingdom  "
      ]
     },
     "execution_count": 13,
     "metadata": {},
     "output_type": "execute_result"
    }
   ],
   "source": [
    "dt[dt[\"Description\"].isnull()].sample(10)"
   ]
  },
  {
   "cell_type": "markdown",
   "metadata": {},
   "source": [
    "#### Upon inspecting the first 10 rows of the rows that contain NaN values in **Description** column, it seams like the rows containing missing values in **Description** column also have negative values for **Quantity**, alot of 0.0 for **Price** and missing values for **CustomerID**"
   ]
  },
  {
   "cell_type": "markdown",
   "metadata": {},
   "source": [
    "#### We will further inspect this bit of data by diving deeper into the above thesis."
   ]
  },
  {
   "cell_type": "code",
   "execution_count": 14,
   "metadata": {},
   "outputs": [
    {
     "data": {
      "text/plain": [
       "True"
      ]
     },
     "execution_count": 14,
     "metadata": {},
     "output_type": "execute_result"
    }
   ],
   "source": [
    "np.all(dt[dt[\"Description\"].isnull()][\"Customer ID\"].isnull())"
   ]
  },
  {
   "cell_type": "markdown",
   "metadata": {},
   "source": [
    "#### All of the NaN value **Description** rows also have NaN value for their corresponding **CustomerID**."
   ]
  },
  {
   "cell_type": "code",
   "execution_count": 15,
   "metadata": {},
   "outputs": [
    {
     "data": {
      "text/plain": [
       "61.364673664993155"
      ]
     },
     "execution_count": 15,
     "metadata": {},
     "output_type": "execute_result"
    }
   ],
   "source": [
    "(dt[dt[\"Description\"].isnull()][\"Quantity\"] <= 0).mean() * 100"
   ]
  },
  {
   "cell_type": "markdown",
   "metadata": {},
   "source": [
    "#### Around 61% of the NaN value **Description** rows have the **Quantity** of equal or less than 0."
   ]
  },
  {
   "cell_type": "code",
   "execution_count": 16,
   "metadata": {},
   "outputs": [
    {
     "data": {
      "text/plain": [
       "True"
      ]
     },
     "execution_count": 16,
     "metadata": {},
     "output_type": "execute_result"
    }
   ],
   "source": [
    "all(dt[dt[\"Description\"].isnull()][\"Country\"] == \"United Kingdom\")"
   ]
  },
  {
   "cell_type": "markdown",
   "metadata": {},
   "source": [
    "#### All of the NaN value **Description** rows are correspoding to the **Country** United Kingdom."
   ]
  },
  {
   "cell_type": "code",
   "execution_count": 17,
   "metadata": {},
   "outputs": [
    {
     "data": {
      "text/plain": [
       "True"
      ]
     },
     "execution_count": 17,
     "metadata": {},
     "output_type": "execute_result"
    }
   ],
   "source": [
    "all(dt[dt[\"Description\"].isnull()][\"Price\"] == 0.0)"
   ]
  },
  {
   "cell_type": "markdown",
   "metadata": {},
   "source": [
    "#### All of the NaN value **Description** rows have the price of 0.0"
   ]
  },
  {
   "cell_type": "markdown",
   "metadata": {},
   "source": [
    "#### Now we will proceed to deal with missing values in **CustomerID** column."
   ]
  },
  {
   "cell_type": "code",
   "execution_count": 18,
   "metadata": {},
   "outputs": [
    {
     "data": {
      "text/plain": [
       "22.766872999172733"
      ]
     },
     "execution_count": 18,
     "metadata": {},
     "output_type": "execute_result"
    }
   ],
   "source": [
    "dt[\"Customer ID\"].isnull().mean() * 100"
   ]
  },
  {
   "cell_type": "markdown",
   "metadata": {},
   "source": [
    "#### Around 23% of **CustomerID** rows are absence with values."
   ]
  },
  {
   "cell_type": "code",
   "execution_count": 19,
   "metadata": {},
   "outputs": [
    {
     "data": {
      "text/html": [
       "<div>\n",
       "<style scoped>\n",
       "    .dataframe tbody tr th:only-of-type {\n",
       "        vertical-align: middle;\n",
       "    }\n",
       "\n",
       "    .dataframe tbody tr th {\n",
       "        vertical-align: top;\n",
       "    }\n",
       "\n",
       "    .dataframe thead th {\n",
       "        text-align: right;\n",
       "    }\n",
       "</style>\n",
       "<table border=\"1\" class=\"dataframe\">\n",
       "  <thead>\n",
       "    <tr style=\"text-align: right;\">\n",
       "      <th></th>\n",
       "      <th>Invoice</th>\n",
       "      <th>StockCode</th>\n",
       "      <th>Description</th>\n",
       "      <th>Quantity</th>\n",
       "      <th>InvoiceDate</th>\n",
       "      <th>Price</th>\n",
       "      <th>Customer ID</th>\n",
       "      <th>Country</th>\n",
       "    </tr>\n",
       "  </thead>\n",
       "  <tbody>\n",
       "    <tr>\n",
       "      <th>478368</th>\n",
       "      <td>577078</td>\n",
       "      <td>22556</td>\n",
       "      <td>PLASTERS IN TIN CIRCUS PARADE</td>\n",
       "      <td>2</td>\n",
       "      <td>2011-11-17 15:17:00</td>\n",
       "      <td>3.29</td>\n",
       "      <td>NaN</td>\n",
       "      <td>United Kingdom</td>\n",
       "    </tr>\n",
       "    <tr>\n",
       "      <th>114061</th>\n",
       "      <td>546007</td>\n",
       "      <td>22352</td>\n",
       "      <td>LUNCH BOX WITH CUTLERY RETROSPOT</td>\n",
       "      <td>1</td>\n",
       "      <td>2011-03-08 15:34:00</td>\n",
       "      <td>4.96</td>\n",
       "      <td>NaN</td>\n",
       "      <td>United Kingdom</td>\n",
       "    </tr>\n",
       "    <tr>\n",
       "      <th>260767</th>\n",
       "      <td>559816</td>\n",
       "      <td>22616</td>\n",
       "      <td>PACK OF 12 LONDON TISSUES</td>\n",
       "      <td>5</td>\n",
       "      <td>2011-07-12 16:11:00</td>\n",
       "      <td>0.83</td>\n",
       "      <td>NaN</td>\n",
       "      <td>United Kingdom</td>\n",
       "    </tr>\n",
       "    <tr>\n",
       "      <th>322801</th>\n",
       "      <td>520833</td>\n",
       "      <td>35961</td>\n",
       "      <td>FOLKART ZINC HEART CHRISTMAS DEC</td>\n",
       "      <td>2</td>\n",
       "      <td>2010-08-31 12:41:00</td>\n",
       "      <td>1.66</td>\n",
       "      <td>NaN</td>\n",
       "      <td>United Kingdom</td>\n",
       "    </tr>\n",
       "    <tr>\n",
       "      <th>437627</th>\n",
       "      <td>574298</td>\n",
       "      <td>22866</td>\n",
       "      <td>HAND WARMER SCOTTY DOG DESIGN</td>\n",
       "      <td>1</td>\n",
       "      <td>2011-11-03 15:56:00</td>\n",
       "      <td>4.13</td>\n",
       "      <td>NaN</td>\n",
       "      <td>United Kingdom</td>\n",
       "    </tr>\n",
       "    <tr>\n",
       "      <th>261825</th>\n",
       "      <td>514663</td>\n",
       "      <td>21777</td>\n",
       "      <td>RECIPE BOX WITH METAL HEART</td>\n",
       "      <td>2</td>\n",
       "      <td>2010-07-05 13:01:00</td>\n",
       "      <td>7.95</td>\n",
       "      <td>NaN</td>\n",
       "      <td>United Kingdom</td>\n",
       "    </tr>\n",
       "    <tr>\n",
       "      <th>256949</th>\n",
       "      <td>514198</td>\n",
       "      <td>20618</td>\n",
       "      <td>QUEEN OF THE SKIES PASSPORT COVER</td>\n",
       "      <td>2</td>\n",
       "      <td>2010-06-30 15:55:00</td>\n",
       "      <td>4.21</td>\n",
       "      <td>NaN</td>\n",
       "      <td>United Kingdom</td>\n",
       "    </tr>\n",
       "    <tr>\n",
       "      <th>318080</th>\n",
       "      <td>564820</td>\n",
       "      <td>22629</td>\n",
       "      <td>SPACEBOY LUNCH BOX</td>\n",
       "      <td>1</td>\n",
       "      <td>2011-08-30 12:16:00</td>\n",
       "      <td>4.13</td>\n",
       "      <td>NaN</td>\n",
       "      <td>United Kingdom</td>\n",
       "    </tr>\n",
       "    <tr>\n",
       "      <th>326255</th>\n",
       "      <td>521202</td>\n",
       "      <td>21790</td>\n",
       "      <td>VINTAGE SNAP CARDS</td>\n",
       "      <td>1</td>\n",
       "      <td>2010-09-02 17:52:00</td>\n",
       "      <td>1.66</td>\n",
       "      <td>NaN</td>\n",
       "      <td>United Kingdom</td>\n",
       "    </tr>\n",
       "    <tr>\n",
       "      <th>222842</th>\n",
       "      <td>556459</td>\n",
       "      <td>23226</td>\n",
       "      <td>FILIGREE HEART DAISY WHITE</td>\n",
       "      <td>1</td>\n",
       "      <td>2011-06-10 17:25:00</td>\n",
       "      <td>2.46</td>\n",
       "      <td>NaN</td>\n",
       "      <td>United Kingdom</td>\n",
       "    </tr>\n",
       "  </tbody>\n",
       "</table>\n",
       "</div>"
      ],
      "text/plain": [
       "       Invoice StockCode                         Description  Quantity  \\\n",
       "478368  577078     22556      PLASTERS IN TIN CIRCUS PARADE          2   \n",
       "114061  546007     22352   LUNCH BOX WITH CUTLERY RETROSPOT          1   \n",
       "260767  559816     22616          PACK OF 12 LONDON TISSUES          5   \n",
       "322801  520833     35961    FOLKART ZINC HEART CHRISTMAS DEC         2   \n",
       "437627  574298     22866       HAND WARMER SCOTTY DOG DESIGN         1   \n",
       "261825  514663     21777         RECIPE BOX WITH METAL HEART         2   \n",
       "256949  514198     20618  QUEEN OF THE SKIES PASSPORT COVER          2   \n",
       "318080  564820     22629                 SPACEBOY LUNCH BOX          1   \n",
       "326255  521202     21790                  VINTAGE SNAP CARDS         1   \n",
       "222842  556459     23226          FILIGREE HEART DAISY WHITE         1   \n",
       "\n",
       "               InvoiceDate  Price  Customer ID         Country  \n",
       "478368 2011-11-17 15:17:00   3.29          NaN  United Kingdom  \n",
       "114061 2011-03-08 15:34:00   4.96          NaN  United Kingdom  \n",
       "260767 2011-07-12 16:11:00   0.83          NaN  United Kingdom  \n",
       "322801 2010-08-31 12:41:00   1.66          NaN  United Kingdom  \n",
       "437627 2011-11-03 15:56:00   4.13          NaN  United Kingdom  \n",
       "261825 2010-07-05 13:01:00   7.95          NaN  United Kingdom  \n",
       "256949 2010-06-30 15:55:00   4.21          NaN  United Kingdom  \n",
       "318080 2011-08-30 12:16:00   4.13          NaN  United Kingdom  \n",
       "326255 2010-09-02 17:52:00   1.66          NaN  United Kingdom  \n",
       "222842 2011-06-10 17:25:00   2.46          NaN  United Kingdom  "
      ]
     },
     "execution_count": 19,
     "metadata": {},
     "output_type": "execute_result"
    }
   ],
   "source": [
    "dt[dt[\"Customer ID\"].isnull()].sample(10)"
   ]
  },
  {
   "cell_type": "code",
   "execution_count": 20,
   "metadata": {},
   "outputs": [
    {
     "data": {
      "text/plain": [
       "4872"
      ]
     },
     "execution_count": 20,
     "metadata": {},
     "output_type": "execute_result"
    }
   ],
   "source": [
    "dt[dt[\"Customer ID\"].isnull()][\"Description\"].nunique()"
   ]
  },
  {
   "cell_type": "code",
   "execution_count": 21,
   "metadata": {},
   "outputs": [
    {
     "data": {
      "text/plain": [
       "1.7308143386816017"
      ]
     },
     "execution_count": 21,
     "metadata": {},
     "output_type": "execute_result"
    }
   ],
   "source": [
    "(dt[dt[\"Customer ID\"].isnull()][\"Quantity\"] <= 0).mean() * 100"
   ]
  },
  {
   "cell_type": "code",
   "execution_count": 22,
   "metadata": {},
   "outputs": [
    {
     "data": {
      "text/plain": [
       "2.5250301431646003"
      ]
     },
     "execution_count": 22,
     "metadata": {},
     "output_type": "execute_result"
    }
   ],
   "source": [
    "(dt[dt[\"Customer ID\"].isnull()][\"Price\"] <= 0.0).mean() * 100"
   ]
  },
  {
   "cell_type": "markdown",
   "metadata": {},
   "source": [
    "#### There are no obvious pattern for why there are missing values in **CustomerID** column"
   ]
  },
  {
   "cell_type": "markdown",
   "metadata": {},
   "source": [
    "#### Next we will analyze the negative values of **Quantity** and **Price** columns"
   ]
  },
  {
   "cell_type": "code",
   "execution_count": 23,
   "metadata": {},
   "outputs": [
    {
     "data": {
      "text/plain": [
       "0.5815222635803297"
      ]
     },
     "execution_count": 23,
     "metadata": {},
     "output_type": "execute_result"
    }
   ],
   "source": [
    "(dt[\"Price\"] <= 0).mean() * 100"
   ]
  },
  {
   "cell_type": "code",
   "execution_count": 24,
   "metadata": {},
   "outputs": [
    {
     "data": {
      "text/plain": [
       "2.1501427338760375"
      ]
     },
     "execution_count": 24,
     "metadata": {},
     "output_type": "execute_result"
    }
   ],
   "source": [
    "(dt[\"Quantity\"] <= 0).mean() * 100"
   ]
  },
  {
   "cell_type": "markdown",
   "metadata": {},
   "source": [
    "#### Around 0.6% of **Price** values are missing and 2.1% of **Quatity**  values are missing "
   ]
  },
  {
   "cell_type": "code",
   "execution_count": 25,
   "metadata": {},
   "outputs": [
    {
     "data": {
      "text/html": [
       "<div>\n",
       "<style scoped>\n",
       "    .dataframe tbody tr th:only-of-type {\n",
       "        vertical-align: middle;\n",
       "    }\n",
       "\n",
       "    .dataframe tbody tr th {\n",
       "        vertical-align: top;\n",
       "    }\n",
       "\n",
       "    .dataframe thead th {\n",
       "        text-align: right;\n",
       "    }\n",
       "</style>\n",
       "<table border=\"1\" class=\"dataframe\">\n",
       "  <thead>\n",
       "    <tr style=\"text-align: right;\">\n",
       "      <th></th>\n",
       "      <th>Invoice</th>\n",
       "      <th>StockCode</th>\n",
       "      <th>Description</th>\n",
       "      <th>Quantity</th>\n",
       "      <th>InvoiceDate</th>\n",
       "      <th>Price</th>\n",
       "      <th>Customer ID</th>\n",
       "      <th>Country</th>\n",
       "    </tr>\n",
       "  </thead>\n",
       "  <tbody>\n",
       "    <tr>\n",
       "      <th>239040</th>\n",
       "      <td>C512529</td>\n",
       "      <td>22097</td>\n",
       "      <td>SWALLOW SQUARE TISSUE BOX</td>\n",
       "      <td>-5</td>\n",
       "      <td>2010-06-16 11:55:00</td>\n",
       "      <td>1.25</td>\n",
       "      <td>15207.0</td>\n",
       "      <td>United Kingdom</td>\n",
       "    </tr>\n",
       "    <tr>\n",
       "      <th>310755</th>\n",
       "      <td>C519679</td>\n",
       "      <td>20676</td>\n",
       "      <td>RED SPOTTY BOWL</td>\n",
       "      <td>-8</td>\n",
       "      <td>2010-08-19 12:37:00</td>\n",
       "      <td>1.25</td>\n",
       "      <td>16278.0</td>\n",
       "      <td>United Kingdom</td>\n",
       "    </tr>\n",
       "    <tr>\n",
       "      <th>292518</th>\n",
       "      <td>C517885</td>\n",
       "      <td>POST</td>\n",
       "      <td>POSTAGE</td>\n",
       "      <td>-1</td>\n",
       "      <td>2010-08-03 08:37:00</td>\n",
       "      <td>2.98</td>\n",
       "      <td>15704.0</td>\n",
       "      <td>United Kingdom</td>\n",
       "    </tr>\n",
       "    <tr>\n",
       "      <th>91248</th>\n",
       "      <td>C497964</td>\n",
       "      <td>44217M</td>\n",
       "      <td>MULTICOLOUR FEATHERS CURTAIN</td>\n",
       "      <td>-48</td>\n",
       "      <td>2010-02-15 13:27:00</td>\n",
       "      <td>2.95</td>\n",
       "      <td>16544.0</td>\n",
       "      <td>United Kingdom</td>\n",
       "    </tr>\n",
       "    <tr>\n",
       "      <th>507365</th>\n",
       "      <td>C579178</td>\n",
       "      <td>22941</td>\n",
       "      <td>CHRISTMAS LIGHTS 10 REINDEER</td>\n",
       "      <td>-2</td>\n",
       "      <td>2011-11-28 14:55:00</td>\n",
       "      <td>8.50</td>\n",
       "      <td>12362.0</td>\n",
       "      <td>Belgium</td>\n",
       "    </tr>\n",
       "    <tr>\n",
       "      <th>272157</th>\n",
       "      <td>560737</td>\n",
       "      <td>84798B</td>\n",
       "      <td>NaN</td>\n",
       "      <td>-109</td>\n",
       "      <td>2011-07-20 15:34:00</td>\n",
       "      <td>0.00</td>\n",
       "      <td>NaN</td>\n",
       "      <td>United Kingdom</td>\n",
       "    </tr>\n",
       "    <tr>\n",
       "      <th>5235</th>\n",
       "      <td>C536850</td>\n",
       "      <td>22580</td>\n",
       "      <td>ADVENT CALENDAR GINGHAM SACK</td>\n",
       "      <td>-48</td>\n",
       "      <td>2010-12-03 09:47:00</td>\n",
       "      <td>4.95</td>\n",
       "      <td>14213.0</td>\n",
       "      <td>United Kingdom</td>\n",
       "    </tr>\n",
       "    <tr>\n",
       "      <th>197255</th>\n",
       "      <td>C508302</td>\n",
       "      <td>21068</td>\n",
       "      <td>VINTAGE BILLBOARD LOVE/HATE MUG</td>\n",
       "      <td>-2</td>\n",
       "      <td>2010-05-14 11:11:00</td>\n",
       "      <td>1.25</td>\n",
       "      <td>17612.0</td>\n",
       "      <td>United Kingdom</td>\n",
       "    </tr>\n",
       "    <tr>\n",
       "      <th>391026</th>\n",
       "      <td>C527020</td>\n",
       "      <td>21977</td>\n",
       "      <td>PACK OF 60 PINK PAISLEY CAKE CASES</td>\n",
       "      <td>-24</td>\n",
       "      <td>2010-10-14 11:52:00</td>\n",
       "      <td>0.55</td>\n",
       "      <td>12589.0</td>\n",
       "      <td>France</td>\n",
       "    </tr>\n",
       "    <tr>\n",
       "      <th>209598</th>\n",
       "      <td>C555256</td>\n",
       "      <td>22776</td>\n",
       "      <td>SWEETHEART CAKESTAND 3 TIER</td>\n",
       "      <td>-1</td>\n",
       "      <td>2011-06-01 15:21:00</td>\n",
       "      <td>9.95</td>\n",
       "      <td>15955.0</td>\n",
       "      <td>United Kingdom</td>\n",
       "    </tr>\n",
       "  </tbody>\n",
       "</table>\n",
       "</div>"
      ],
      "text/plain": [
       "        Invoice StockCode                         Description  Quantity  \\\n",
       "239040  C512529     22097           SWALLOW SQUARE TISSUE BOX        -5   \n",
       "310755  C519679     20676                     RED SPOTTY BOWL        -8   \n",
       "292518  C517885      POST                             POSTAGE        -1   \n",
       "91248   C497964    44217M        MULTICOLOUR FEATHERS CURTAIN       -48   \n",
       "507365  C579178     22941        CHRISTMAS LIGHTS 10 REINDEER        -2   \n",
       "272157   560737    84798B                                 NaN      -109   \n",
       "5235    C536850     22580        ADVENT CALENDAR GINGHAM SACK       -48   \n",
       "197255  C508302     21068     VINTAGE BILLBOARD LOVE/HATE MUG        -2   \n",
       "391026  C527020     21977  PACK OF 60 PINK PAISLEY CAKE CASES       -24   \n",
       "209598  C555256     22776         SWEETHEART CAKESTAND 3 TIER        -1   \n",
       "\n",
       "               InvoiceDate  Price  Customer ID         Country  \n",
       "239040 2010-06-16 11:55:00   1.25      15207.0  United Kingdom  \n",
       "310755 2010-08-19 12:37:00   1.25      16278.0  United Kingdom  \n",
       "292518 2010-08-03 08:37:00   2.98      15704.0  United Kingdom  \n",
       "91248  2010-02-15 13:27:00   2.95      16544.0  United Kingdom  \n",
       "507365 2011-11-28 14:55:00   8.50      12362.0         Belgium  \n",
       "272157 2011-07-20 15:34:00   0.00          NaN  United Kingdom  \n",
       "5235   2010-12-03 09:47:00   4.95      14213.0  United Kingdom  \n",
       "197255 2010-05-14 11:11:00   1.25      17612.0  United Kingdom  \n",
       "391026 2010-10-14 11:52:00   0.55      12589.0          France  \n",
       "209598 2011-06-01 15:21:00   9.95      15955.0  United Kingdom  "
      ]
     },
     "execution_count": 25,
     "metadata": {},
     "output_type": "execute_result"
    }
   ],
   "source": [
    "dt[dt[\"Quantity\"] <= 0].sample(10)"
   ]
  },
  {
   "cell_type": "code",
   "execution_count": 26,
   "metadata": {},
   "outputs": [
    {
     "data": {
      "text/plain": [
       "84.93681917211329"
      ]
     },
     "execution_count": 26,
     "metadata": {},
     "output_type": "execute_result"
    }
   ],
   "source": [
    "dt[dt[\"Quantity\"] <= 0][\"Invoice\"].astype(\"str\").str.startswith(\"C\").mean() * 100"
   ]
  },
  {
   "cell_type": "code",
   "execution_count": 27,
   "metadata": {},
   "outputs": [
    {
     "data": {
      "text/plain": [
       "99.99487021647685"
      ]
     },
     "execution_count": 27,
     "metadata": {},
     "output_type": "execute_result"
    }
   ],
   "source": [
    "(dt[dt[\"Invoice\"].astype(\"str\").str.startswith(\"C\")][\"Quantity\"] <= 0.).mean() * 100"
   ]
  },
  {
   "cell_type": "markdown",
   "metadata": {},
   "source": [
    "#### By taking a look at the **Invoice** column, there is a C at the beginning in most of the values. Which can be understanded that these orders were cancelled."
   ]
  },
  {
   "cell_type": "markdown",
   "metadata": {},
   "source": [
    "#### Next, we will create an additional column called **TotalPrice** calculated by **Quantity** multiplied by **Price**. Rows with the **TotalPrice** equal or less than 0 will be dropped."
   ]
  },
  {
   "cell_type": "code",
   "execution_count": 28,
   "metadata": {},
   "outputs": [],
   "source": [
    "dt[\"TotalPrice\"] = dt[\"Quantity\"] * dt[\"Price\"]"
   ]
  },
  {
   "cell_type": "code",
   "execution_count": 29,
   "metadata": {},
   "outputs": [
    {
     "data": {
      "text/plain": [
       "2.4077851093949527"
      ]
     },
     "execution_count": 29,
     "metadata": {},
     "output_type": "execute_result"
    }
   ],
   "source": [
    "(dt[\"TotalPrice\"] <= 0).mean() * 100"
   ]
  },
  {
   "cell_type": "markdown",
   "metadata": {},
   "source": [
    "#### Around 2.4% of the data consist of rows that have the total price equal or less than 0."
   ]
  },
  {
   "cell_type": "code",
   "execution_count": 30,
   "metadata": {},
   "outputs": [
    {
     "data": {
      "text/html": [
       "<div>\n",
       "<style scoped>\n",
       "    .dataframe tbody tr th:only-of-type {\n",
       "        vertical-align: middle;\n",
       "    }\n",
       "\n",
       "    .dataframe tbody tr th {\n",
       "        vertical-align: top;\n",
       "    }\n",
       "\n",
       "    .dataframe thead th {\n",
       "        text-align: right;\n",
       "    }\n",
       "</style>\n",
       "<table border=\"1\" class=\"dataframe\">\n",
       "  <thead>\n",
       "    <tr style=\"text-align: right;\">\n",
       "      <th></th>\n",
       "      <th>Invoice</th>\n",
       "      <th>StockCode</th>\n",
       "      <th>Description</th>\n",
       "      <th>Quantity</th>\n",
       "      <th>InvoiceDate</th>\n",
       "      <th>Price</th>\n",
       "      <th>Customer ID</th>\n",
       "      <th>Country</th>\n",
       "      <th>TotalPrice</th>\n",
       "    </tr>\n",
       "  </thead>\n",
       "  <tbody>\n",
       "    <tr>\n",
       "      <th>178</th>\n",
       "      <td>C489449</td>\n",
       "      <td>22087</td>\n",
       "      <td>PAPER BUNTING WHITE LACE</td>\n",
       "      <td>-12</td>\n",
       "      <td>2009-12-01 10:33:00</td>\n",
       "      <td>2.95</td>\n",
       "      <td>16321.0</td>\n",
       "      <td>Australia</td>\n",
       "      <td>-35.40</td>\n",
       "    </tr>\n",
       "    <tr>\n",
       "      <th>179</th>\n",
       "      <td>C489449</td>\n",
       "      <td>85206A</td>\n",
       "      <td>CREAM FELT EASTER EGG BASKET</td>\n",
       "      <td>-6</td>\n",
       "      <td>2009-12-01 10:33:00</td>\n",
       "      <td>1.65</td>\n",
       "      <td>16321.0</td>\n",
       "      <td>Australia</td>\n",
       "      <td>-9.90</td>\n",
       "    </tr>\n",
       "    <tr>\n",
       "      <th>180</th>\n",
       "      <td>C489449</td>\n",
       "      <td>21895</td>\n",
       "      <td>POTTING SHED SOW 'N' GROW SET</td>\n",
       "      <td>-4</td>\n",
       "      <td>2009-12-01 10:33:00</td>\n",
       "      <td>4.25</td>\n",
       "      <td>16321.0</td>\n",
       "      <td>Australia</td>\n",
       "      <td>-17.00</td>\n",
       "    </tr>\n",
       "    <tr>\n",
       "      <th>181</th>\n",
       "      <td>C489449</td>\n",
       "      <td>21896</td>\n",
       "      <td>POTTING SHED TWINE</td>\n",
       "      <td>-6</td>\n",
       "      <td>2009-12-01 10:33:00</td>\n",
       "      <td>2.10</td>\n",
       "      <td>16321.0</td>\n",
       "      <td>Australia</td>\n",
       "      <td>-12.60</td>\n",
       "    </tr>\n",
       "    <tr>\n",
       "      <th>182</th>\n",
       "      <td>C489449</td>\n",
       "      <td>22083</td>\n",
       "      <td>PAPER CHAIN KIT RETRO SPOT</td>\n",
       "      <td>-12</td>\n",
       "      <td>2009-12-01 10:33:00</td>\n",
       "      <td>2.95</td>\n",
       "      <td>16321.0</td>\n",
       "      <td>Australia</td>\n",
       "      <td>-35.40</td>\n",
       "    </tr>\n",
       "    <tr>\n",
       "      <th>...</th>\n",
       "      <td>...</td>\n",
       "      <td>...</td>\n",
       "      <td>...</td>\n",
       "      <td>...</td>\n",
       "      <td>...</td>\n",
       "      <td>...</td>\n",
       "      <td>...</td>\n",
       "      <td>...</td>\n",
       "      <td>...</td>\n",
       "    </tr>\n",
       "    <tr>\n",
       "      <th>540449</th>\n",
       "      <td>C581490</td>\n",
       "      <td>23144</td>\n",
       "      <td>ZINC T-LIGHT HOLDER STARS SMALL</td>\n",
       "      <td>-11</td>\n",
       "      <td>2011-12-09 09:57:00</td>\n",
       "      <td>0.83</td>\n",
       "      <td>14397.0</td>\n",
       "      <td>United Kingdom</td>\n",
       "      <td>-9.13</td>\n",
       "    </tr>\n",
       "    <tr>\n",
       "      <th>541541</th>\n",
       "      <td>C581499</td>\n",
       "      <td>M</td>\n",
       "      <td>Manual</td>\n",
       "      <td>-1</td>\n",
       "      <td>2011-12-09 10:28:00</td>\n",
       "      <td>224.69</td>\n",
       "      <td>15498.0</td>\n",
       "      <td>United Kingdom</td>\n",
       "      <td>-224.69</td>\n",
       "    </tr>\n",
       "    <tr>\n",
       "      <th>541715</th>\n",
       "      <td>C581568</td>\n",
       "      <td>21258</td>\n",
       "      <td>VICTORIAN SEWING BOX LARGE</td>\n",
       "      <td>-5</td>\n",
       "      <td>2011-12-09 11:57:00</td>\n",
       "      <td>10.95</td>\n",
       "      <td>15311.0</td>\n",
       "      <td>United Kingdom</td>\n",
       "      <td>-54.75</td>\n",
       "    </tr>\n",
       "    <tr>\n",
       "      <th>541716</th>\n",
       "      <td>C581569</td>\n",
       "      <td>84978</td>\n",
       "      <td>HANGING HEART JAR T-LIGHT HOLDER</td>\n",
       "      <td>-1</td>\n",
       "      <td>2011-12-09 11:58:00</td>\n",
       "      <td>1.25</td>\n",
       "      <td>17315.0</td>\n",
       "      <td>United Kingdom</td>\n",
       "      <td>-1.25</td>\n",
       "    </tr>\n",
       "    <tr>\n",
       "      <th>541717</th>\n",
       "      <td>C581569</td>\n",
       "      <td>20979</td>\n",
       "      <td>36 PENCILS TUBE RED RETROSPOT</td>\n",
       "      <td>-5</td>\n",
       "      <td>2011-12-09 11:58:00</td>\n",
       "      <td>1.25</td>\n",
       "      <td>17315.0</td>\n",
       "      <td>United Kingdom</td>\n",
       "      <td>-6.25</td>\n",
       "    </tr>\n",
       "  </tbody>\n",
       "</table>\n",
       "<p>25700 rows × 9 columns</p>\n",
       "</div>"
      ],
      "text/plain": [
       "        Invoice StockCode                       Description  Quantity  \\\n",
       "178     C489449     22087          PAPER BUNTING WHITE LACE       -12   \n",
       "179     C489449    85206A      CREAM FELT EASTER EGG BASKET        -6   \n",
       "180     C489449     21895     POTTING SHED SOW 'N' GROW SET        -4   \n",
       "181     C489449     21896                POTTING SHED TWINE        -6   \n",
       "182     C489449     22083        PAPER CHAIN KIT RETRO SPOT       -12   \n",
       "...         ...       ...                               ...       ...   \n",
       "540449  C581490     23144   ZINC T-LIGHT HOLDER STARS SMALL       -11   \n",
       "541541  C581499         M                            Manual        -1   \n",
       "541715  C581568     21258        VICTORIAN SEWING BOX LARGE        -5   \n",
       "541716  C581569     84978  HANGING HEART JAR T-LIGHT HOLDER        -1   \n",
       "541717  C581569     20979     36 PENCILS TUBE RED RETROSPOT        -5   \n",
       "\n",
       "               InvoiceDate   Price  Customer ID         Country  TotalPrice  \n",
       "178    2009-12-01 10:33:00    2.95      16321.0       Australia      -35.40  \n",
       "179    2009-12-01 10:33:00    1.65      16321.0       Australia       -9.90  \n",
       "180    2009-12-01 10:33:00    4.25      16321.0       Australia      -17.00  \n",
       "181    2009-12-01 10:33:00    2.10      16321.0       Australia      -12.60  \n",
       "182    2009-12-01 10:33:00    2.95      16321.0       Australia      -35.40  \n",
       "...                    ...     ...          ...             ...         ...  \n",
       "540449 2011-12-09 09:57:00    0.83      14397.0  United Kingdom       -9.13  \n",
       "541541 2011-12-09 10:28:00  224.69      15498.0  United Kingdom     -224.69  \n",
       "541715 2011-12-09 11:57:00   10.95      15311.0  United Kingdom      -54.75  \n",
       "541716 2011-12-09 11:58:00    1.25      17315.0  United Kingdom       -1.25  \n",
       "541717 2011-12-09 11:58:00    1.25      17315.0  United Kingdom       -6.25  \n",
       "\n",
       "[25700 rows x 9 columns]"
      ]
     },
     "execution_count": 30,
     "metadata": {},
     "output_type": "execute_result"
    }
   ],
   "source": [
    "dt[dt[\"TotalPrice\"] <= 0]"
   ]
  },
  {
   "cell_type": "markdown",
   "metadata": {},
   "source": [
    "#### There are approximately 25700 rows that will be dropped to clean the data."
   ]
  },
  {
   "cell_type": "markdown",
   "metadata": {},
   "source": [
    "#### Next, we will proceed to remove all the rows with TotalPrice < 0 and rows containing missing values in **Description**. We will also remove cancelled orders except for 1."
   ]
  },
  {
   "cell_type": "code",
   "execution_count": 31,
   "metadata": {},
   "outputs": [
    {
     "data": {
      "text/plain": [
       "True"
      ]
     },
     "execution_count": 31,
     "metadata": {},
     "output_type": "execute_result"
    }
   ],
   "source": [
    "all(~dt[dt[\"TotalPrice\"] > 0][\"Description\"].isnull())"
   ]
  },
  {
   "cell_type": "code",
   "execution_count": 32,
   "metadata": {},
   "outputs": [
    {
     "data": {
      "text/html": [
       "<div>\n",
       "<style scoped>\n",
       "    .dataframe tbody tr th:only-of-type {\n",
       "        vertical-align: middle;\n",
       "    }\n",
       "\n",
       "    .dataframe tbody tr th {\n",
       "        vertical-align: top;\n",
       "    }\n",
       "\n",
       "    .dataframe thead th {\n",
       "        text-align: right;\n",
       "    }\n",
       "</style>\n",
       "<table border=\"1\" class=\"dataframe\">\n",
       "  <thead>\n",
       "    <tr style=\"text-align: right;\">\n",
       "      <th></th>\n",
       "      <th>Invoice</th>\n",
       "      <th>StockCode</th>\n",
       "      <th>Description</th>\n",
       "      <th>Quantity</th>\n",
       "      <th>InvoiceDate</th>\n",
       "      <th>Price</th>\n",
       "      <th>Customer ID</th>\n",
       "      <th>Country</th>\n",
       "      <th>TotalPrice</th>\n",
       "    </tr>\n",
       "  </thead>\n",
       "  <tbody>\n",
       "    <tr>\n",
       "      <th>76799</th>\n",
       "      <td>C496350</td>\n",
       "      <td>M</td>\n",
       "      <td>Manual</td>\n",
       "      <td>1</td>\n",
       "      <td>2010-02-01 08:24:00</td>\n",
       "      <td>373.57</td>\n",
       "      <td>NaN</td>\n",
       "      <td>United Kingdom</td>\n",
       "      <td>373.57</td>\n",
       "    </tr>\n",
       "  </tbody>\n",
       "</table>\n",
       "</div>"
      ],
      "text/plain": [
       "       Invoice StockCode Description  Quantity         InvoiceDate   Price  \\\n",
       "76799  C496350         M      Manual         1 2010-02-01 08:24:00  373.57   \n",
       "\n",
       "       Customer ID         Country  TotalPrice  \n",
       "76799          NaN  United Kingdom      373.57  "
      ]
     },
     "execution_count": 32,
     "metadata": {},
     "output_type": "execute_result"
    }
   ],
   "source": [
    "dt[(dt[\"Invoice\"].astype(\"str\").str.startswith(\"C\")) & (dt[\"TotalPrice\"] > 0)]"
   ]
  },
  {
   "cell_type": "markdown",
   "metadata": {},
   "source": [
    "#### At this point, the data is cleaned and ready for further analysis."
   ]
  },
  {
   "cell_type": "markdown",
   "metadata": {},
   "source": [
    "#### Let's now create a function that loads the data, and filter out rows with negative TotalPrice and cancelled orders. There is an argument in the function of keep rows with missing values in the Customer ID column."
   ]
  },
  {
   "cell_type": "code",
   "execution_count": 33,
   "metadata": {},
   "outputs": [],
   "source": [
    "def load_dt(sheet_name=\"Year 2009-2010\", keepna=True):\n",
    "    \n",
    "    dt = pd.read_excel(\"../data/online_retail_II.xlsx\", \n",
    "                       sheet_name=sheet_name, \n",
    "                       parse_dates=[\"InvoiceDate\"],\n",
    "                       dtype={\"Invoice\": \"str\", \"StockCode\": \"str\"})\n",
    "    \n",
    "    if isinstance(dt, dict):\n",
    "        dt = pd.concat(dt.values())\n",
    "    \n",
    "    dt[\"TotalPrice\"] = dt[\"Quantity\"] * dt[\"Price\"]\n",
    "    dt = dt.query(\"TotalPrice > 0\")\n",
    "    dt = dt[~dt[\"Invoice\"].str.startswith(\"C\")]\n",
    "    dt = dt[~dt[\"StockCode\"].str.contains(\"TEST\")]\n",
    "    \n",
    "    if not keepna:\n",
    "        dt.dropna(inplace = True)\n",
    "        \n",
    "    dt.drop_duplicates(inplace=True)\n",
    "        \n",
    "    assert all(dt[\"InvoiceDate\"] > datetime(2009,1,1))\n",
    "    assert all(dt[\"InvoiceDate\"] < datetime(2012,1,1))\n",
    "    \n",
    "    return dt"
   ]
  },
  {
   "cell_type": "code",
   "execution_count": 34,
   "metadata": {},
   "outputs": [],
   "source": [
    "dt = load_dt(None)"
   ]
  },
  {
   "cell_type": "code",
   "execution_count": 35,
   "metadata": {},
   "outputs": [
    {
     "name": "stdout",
     "output_type": "stream",
     "text": [
      "<class 'pandas.core.frame.DataFrame'>\n",
      "Index: 1007903 entries, 0 to 541909\n",
      "Data columns (total 9 columns):\n",
      " #   Column       Non-Null Count    Dtype         \n",
      "---  ------       --------------    -----         \n",
      " 0   Invoice      1007903 non-null  object        \n",
      " 1   StockCode    1007903 non-null  object        \n",
      " 2   Description  1007903 non-null  object        \n",
      " 3   Quantity     1007903 non-null  int64         \n",
      " 4   InvoiceDate  1007903 non-null  datetime64[ns]\n",
      " 5   Price        1007903 non-null  float64       \n",
      " 6   Customer ID  779415 non-null   float64       \n",
      " 7   Country      1007903 non-null  object        \n",
      " 8   TotalPrice   1007903 non-null  float64       \n",
      "dtypes: datetime64[ns](1), float64(3), int64(1), object(4)\n",
      "memory usage: 76.9+ MB\n"
     ]
    }
   ],
   "source": [
    "dt.info()"
   ]
  },
  {
   "cell_type": "markdown",
   "metadata": {},
   "source": [
    "# Feature engineering"
   ]
  },
  {
   "cell_type": "markdown",
   "metadata": {},
   "source": [
    "We can see that there are many customers who do not have a **Customer ID** so we cannot track them, but first we can track the products that are sold in the highest quantity and the products that bring in the highest total revenue."
   ]
  },
  {
   "cell_type": "code",
   "execution_count": 52,
   "metadata": {},
   "outputs": [
    {
     "data": {
      "text/html": [
       "<div>\n",
       "<style scoped>\n",
       "    .dataframe tbody tr th:only-of-type {\n",
       "        vertical-align: middle;\n",
       "    }\n",
       "\n",
       "    .dataframe tbody tr th {\n",
       "        vertical-align: top;\n",
       "    }\n",
       "\n",
       "    .dataframe thead th {\n",
       "        text-align: right;\n",
       "    }\n",
       "</style>\n",
       "<table border=\"1\" class=\"dataframe\">\n",
       "  <thead>\n",
       "    <tr style=\"text-align: right;\">\n",
       "      <th></th>\n",
       "      <th>Invoice</th>\n",
       "      <th>StockCode</th>\n",
       "      <th>Description</th>\n",
       "      <th>Quantity</th>\n",
       "      <th>InvoiceDate</th>\n",
       "      <th>Price</th>\n",
       "      <th>Customer ID</th>\n",
       "      <th>Country</th>\n",
       "      <th>TotalPrice</th>\n",
       "    </tr>\n",
       "  </thead>\n",
       "  <tbody>\n",
       "    <tr>\n",
       "      <th>119494</th>\n",
       "      <td>546545</td>\n",
       "      <td>22981</td>\n",
       "      <td>PANTRY APPLE CORER</td>\n",
       "      <td>1</td>\n",
       "      <td>2011-03-14 15:48:00</td>\n",
       "      <td>1.45</td>\n",
       "      <td>16804.0</td>\n",
       "      <td>United Kingdom</td>\n",
       "      <td>1.45</td>\n",
       "    </tr>\n",
       "    <tr>\n",
       "      <th>25184</th>\n",
       "      <td>491474</td>\n",
       "      <td>72756</td>\n",
       "      <td>FAIRY CAKE CANDLES</td>\n",
       "      <td>36</td>\n",
       "      <td>2009-12-11 12:09:00</td>\n",
       "      <td>1.49</td>\n",
       "      <td>14577.0</td>\n",
       "      <td>United Kingdom</td>\n",
       "      <td>53.64</td>\n",
       "    </tr>\n",
       "    <tr>\n",
       "      <th>441424</th>\n",
       "      <td>531468</td>\n",
       "      <td>22147</td>\n",
       "      <td>FELTCRAFT BUTTERFLY HEARTS</td>\n",
       "      <td>6</td>\n",
       "      <td>2010-11-08 13:58:00</td>\n",
       "      <td>1.45</td>\n",
       "      <td>14821.0</td>\n",
       "      <td>United Kingdom</td>\n",
       "      <td>8.70</td>\n",
       "    </tr>\n",
       "    <tr>\n",
       "      <th>495846</th>\n",
       "      <td>578326</td>\n",
       "      <td>21914</td>\n",
       "      <td>BLUE HARMONICA IN BOX</td>\n",
       "      <td>1</td>\n",
       "      <td>2011-11-23 17:45:00</td>\n",
       "      <td>1.25</td>\n",
       "      <td>16343.0</td>\n",
       "      <td>United Kingdom</td>\n",
       "      <td>1.25</td>\n",
       "    </tr>\n",
       "    <tr>\n",
       "      <th>450481</th>\n",
       "      <td>532159</td>\n",
       "      <td>21967</td>\n",
       "      <td>PACK OF 12 SKULL TISSUES</td>\n",
       "      <td>24</td>\n",
       "      <td>2010-11-11 12:18:00</td>\n",
       "      <td>0.29</td>\n",
       "      <td>16945.0</td>\n",
       "      <td>United Kingdom</td>\n",
       "      <td>6.96</td>\n",
       "    </tr>\n",
       "    <tr>\n",
       "      <th>208316</th>\n",
       "      <td>555109</td>\n",
       "      <td>23175</td>\n",
       "      <td>REGENCY MILK JUG PINK</td>\n",
       "      <td>4</td>\n",
       "      <td>2011-05-31 14:19:00</td>\n",
       "      <td>3.25</td>\n",
       "      <td>16023.0</td>\n",
       "      <td>United Kingdom</td>\n",
       "      <td>13.00</td>\n",
       "    </tr>\n",
       "    <tr>\n",
       "      <th>144969</th>\n",
       "      <td>503185</td>\n",
       "      <td>22251</td>\n",
       "      <td>BIRDHOUSE DECORATION MAGIC GARDEN</td>\n",
       "      <td>3</td>\n",
       "      <td>2010-03-30 14:29:00</td>\n",
       "      <td>2.51</td>\n",
       "      <td>NaN</td>\n",
       "      <td>United Kingdom</td>\n",
       "      <td>7.53</td>\n",
       "    </tr>\n",
       "  </tbody>\n",
       "</table>\n",
       "</div>"
      ],
      "text/plain": [
       "       Invoice StockCode                        Description  Quantity  \\\n",
       "119494  546545     22981                 PANTRY APPLE CORER         1   \n",
       "25184   491474     72756                 FAIRY CAKE CANDLES        36   \n",
       "441424  531468     22147         FELTCRAFT BUTTERFLY HEARTS         6   \n",
       "495846  578326     21914             BLUE HARMONICA IN BOX          1   \n",
       "450481  532159     21967           PACK OF 12 SKULL TISSUES        24   \n",
       "208316  555109     23175             REGENCY MILK JUG PINK          4   \n",
       "144969  503185     22251  BIRDHOUSE DECORATION MAGIC GARDEN         3   \n",
       "\n",
       "               InvoiceDate  Price  Customer ID         Country  TotalPrice  \n",
       "119494 2011-03-14 15:48:00   1.45      16804.0  United Kingdom        1.45  \n",
       "25184  2009-12-11 12:09:00   1.49      14577.0  United Kingdom       53.64  \n",
       "441424 2010-11-08 13:58:00   1.45      14821.0  United Kingdom        8.70  \n",
       "495846 2011-11-23 17:45:00   1.25      16343.0  United Kingdom        1.25  \n",
       "450481 2010-11-11 12:18:00   0.29      16945.0  United Kingdom        6.96  \n",
       "208316 2011-05-31 14:19:00   3.25      16023.0  United Kingdom       13.00  \n",
       "144969 2010-03-30 14:29:00   2.51          NaN  United Kingdom        7.53  "
      ]
     },
     "execution_count": 52,
     "metadata": {},
     "output_type": "execute_result"
    }
   ],
   "source": [
    "dt['TotalPrice'] = dt['Price'] * dt['Quantity']\n",
    "dt.sample(7)\n"
   ]
  },
  {
   "cell_type": "markdown",
   "metadata": {},
   "source": [
    "As the statistics show, the product **WORLD WAR 2 GLIDERS ASSTD DESIGNS** is sold in the largest quantity with more than 100k but the product with the highest total revenue is **Manual** with only 9634 products but bringing in more than 330k pounds."
   ]
  },
  {
   "cell_type": "code",
   "execution_count": 40,
   "metadata": {},
   "outputs": [
    {
     "data": {
      "text/html": [
       "<div>\n",
       "<style scoped>\n",
       "    .dataframe tbody tr th:only-of-type {\n",
       "        vertical-align: middle;\n",
       "    }\n",
       "\n",
       "    .dataframe tbody tr th {\n",
       "        vertical-align: top;\n",
       "    }\n",
       "\n",
       "    .dataframe thead th {\n",
       "        text-align: right;\n",
       "    }\n",
       "</style>\n",
       "<table border=\"1\" class=\"dataframe\">\n",
       "  <thead>\n",
       "    <tr style=\"text-align: right;\">\n",
       "      <th></th>\n",
       "      <th>Description</th>\n",
       "      <th>Quantity</th>\n",
       "    </tr>\n",
       "  </thead>\n",
       "  <tbody>\n",
       "    <tr>\n",
       "      <th>0</th>\n",
       "      <td>WORLD WAR 2 GLIDERS ASSTD DESIGNS</td>\n",
       "      <td>106139</td>\n",
       "    </tr>\n",
       "    <tr>\n",
       "      <th>1</th>\n",
       "      <td>WHITE HANGING HEART T-LIGHT HOLDER</td>\n",
       "      <td>94658</td>\n",
       "    </tr>\n",
       "    <tr>\n",
       "      <th>2</th>\n",
       "      <td>PAPER CRAFT , LITTLE BIRDIE</td>\n",
       "      <td>80995</td>\n",
       "    </tr>\n",
       "    <tr>\n",
       "      <th>3</th>\n",
       "      <td>ASSORTED COLOUR BIRD ORNAMENT</td>\n",
       "      <td>80082</td>\n",
       "    </tr>\n",
       "    <tr>\n",
       "      <th>4</th>\n",
       "      <td>MEDIUM CERAMIC TOP STORAGE JAR</td>\n",
       "      <td>78033</td>\n",
       "    </tr>\n",
       "    <tr>\n",
       "      <th>...</th>\n",
       "      <td>...</td>\n",
       "      <td>...</td>\n",
       "    </tr>\n",
       "    <tr>\n",
       "      <th>5393</th>\n",
       "      <td>ROSE PINK PENDANT SHELL NECKLACE</td>\n",
       "      <td>1</td>\n",
       "    </tr>\n",
       "    <tr>\n",
       "      <th>5394</th>\n",
       "      <td>FEATHER HEART LIGHTS</td>\n",
       "      <td>1</td>\n",
       "    </tr>\n",
       "    <tr>\n",
       "      <th>5395</th>\n",
       "      <td>6 HOOK JEWEL STAND LILAC DRESS</td>\n",
       "      <td>1</td>\n",
       "    </tr>\n",
       "    <tr>\n",
       "      <th>5396</th>\n",
       "      <td>DADDY MOUSE RED GINGHAM BOW TIE</td>\n",
       "      <td>1</td>\n",
       "    </tr>\n",
       "    <tr>\n",
       "      <th>5397</th>\n",
       "      <td>FLOWER SHOP DESIGN MUG</td>\n",
       "      <td>1</td>\n",
       "    </tr>\n",
       "  </tbody>\n",
       "</table>\n",
       "<p>5398 rows × 2 columns</p>\n",
       "</div>"
      ],
      "text/plain": [
       "                             Description  Quantity\n",
       "0      WORLD WAR 2 GLIDERS ASSTD DESIGNS    106139\n",
       "1     WHITE HANGING HEART T-LIGHT HOLDER     94658\n",
       "2            PAPER CRAFT , LITTLE BIRDIE     80995\n",
       "3          ASSORTED COLOUR BIRD ORNAMENT     80082\n",
       "4         MEDIUM CERAMIC TOP STORAGE JAR     78033\n",
       "...                                  ...       ...\n",
       "5393    ROSE PINK PENDANT SHELL NECKLACE         1\n",
       "5394                FEATHER HEART LIGHTS         1\n",
       "5395      6 HOOK JEWEL STAND LILAC DRESS         1\n",
       "5396     DADDY MOUSE RED GINGHAM BOW TIE         1\n",
       "5397              FLOWER SHOP DESIGN MUG         1\n",
       "\n",
       "[5398 rows x 2 columns]"
      ]
     },
     "execution_count": 40,
     "metadata": {},
     "output_type": "execute_result"
    }
   ],
   "source": [
    "# Group by 'Description' and sum up the 'Quantity' for each product\n",
    "products_by_quantity = dt.groupby('Description').agg({'Quantity': 'sum'})\n",
    "\n",
    "# Sort the products by 'Quantity' in descending order\n",
    "products_by_quantity = products_by_quantity.sort_values(by='Quantity', ascending=False)\n",
    "\n",
    "# Reset the index to make 'Description' a column\n",
    "products_by_quantity = products_by_quantity.reset_index()\n",
    "\n",
    "# Display the result\n",
    "products_by_quantity\n"
   ]
  },
  {
   "cell_type": "code",
   "execution_count": 51,
   "metadata": {},
   "outputs": [
    {
     "data": {
      "text/html": [
       "<div>\n",
       "<style scoped>\n",
       "    .dataframe tbody tr th:only-of-type {\n",
       "        vertical-align: middle;\n",
       "    }\n",
       "\n",
       "    .dataframe tbody tr th {\n",
       "        vertical-align: top;\n",
       "    }\n",
       "\n",
       "    .dataframe thead th {\n",
       "        text-align: right;\n",
       "    }\n",
       "</style>\n",
       "<table border=\"1\" class=\"dataframe\">\n",
       "  <thead>\n",
       "    <tr style=\"text-align: right;\">\n",
       "      <th></th>\n",
       "      <th>Description</th>\n",
       "      <th>Quantity</th>\n",
       "      <th>TotalPrice</th>\n",
       "    </tr>\n",
       "  </thead>\n",
       "  <tbody>\n",
       "    <tr>\n",
       "      <th>0</th>\n",
       "      <td>Manual</td>\n",
       "      <td>9634</td>\n",
       "      <td>339241.290</td>\n",
       "    </tr>\n",
       "    <tr>\n",
       "      <th>1</th>\n",
       "      <td>REGENCY CAKESTAND 3 TIER</td>\n",
       "      <td>26478</td>\n",
       "      <td>330590.320</td>\n",
       "    </tr>\n",
       "    <tr>\n",
       "      <th>2</th>\n",
       "      <td>DOTCOM POSTAGE</td>\n",
       "      <td>1415</td>\n",
       "      <td>309854.110</td>\n",
       "    </tr>\n",
       "    <tr>\n",
       "      <th>3</th>\n",
       "      <td>WHITE HANGING HEART T-LIGHT HOLDER</td>\n",
       "      <td>94658</td>\n",
       "      <td>260990.220</td>\n",
       "    </tr>\n",
       "    <tr>\n",
       "      <th>4</th>\n",
       "      <td>PAPER CRAFT , LITTLE BIRDIE</td>\n",
       "      <td>80995</td>\n",
       "      <td>168469.600</td>\n",
       "    </tr>\n",
       "    <tr>\n",
       "      <th>...</th>\n",
       "      <td>...</td>\n",
       "      <td>...</td>\n",
       "      <td>...</td>\n",
       "    </tr>\n",
       "    <tr>\n",
       "      <th>5393</th>\n",
       "      <td>CAT W SUNGLASSES BLANK CARD</td>\n",
       "      <td>4</td>\n",
       "      <td>0.760</td>\n",
       "    </tr>\n",
       "    <tr>\n",
       "      <th>5394</th>\n",
       "      <td>SET 12 COLOURING PENCILS DOILEY</td>\n",
       "      <td>1</td>\n",
       "      <td>0.650</td>\n",
       "    </tr>\n",
       "    <tr>\n",
       "      <th>5395</th>\n",
       "      <td>PINK HEART CHRISTMAS DECORATION</td>\n",
       "      <td>1</td>\n",
       "      <td>0.380</td>\n",
       "    </tr>\n",
       "    <tr>\n",
       "      <th>5396</th>\n",
       "      <td>HAPPY BIRTHDAY GINGER CAT CARD</td>\n",
       "      <td>2</td>\n",
       "      <td>0.380</td>\n",
       "    </tr>\n",
       "    <tr>\n",
       "      <th>5397</th>\n",
       "      <td>PADS TO MATCH ALL CUSHIONS</td>\n",
       "      <td>17</td>\n",
       "      <td>0.017</td>\n",
       "    </tr>\n",
       "  </tbody>\n",
       "</table>\n",
       "<p>5398 rows × 3 columns</p>\n",
       "</div>"
      ],
      "text/plain": [
       "                             Description  Quantity  TotalPrice\n",
       "0                                 Manual      9634  339241.290\n",
       "1               REGENCY CAKESTAND 3 TIER     26478  330590.320\n",
       "2                         DOTCOM POSTAGE      1415  309854.110\n",
       "3     WHITE HANGING HEART T-LIGHT HOLDER     94658  260990.220\n",
       "4            PAPER CRAFT , LITTLE BIRDIE     80995  168469.600\n",
       "...                                  ...       ...         ...\n",
       "5393         CAT W SUNGLASSES BLANK CARD         4       0.760\n",
       "5394     SET 12 COLOURING PENCILS DOILEY         1       0.650\n",
       "5395     PINK HEART CHRISTMAS DECORATION         1       0.380\n",
       "5396      HAPPY BIRTHDAY GINGER CAT CARD         2       0.380\n",
       "5397          PADS TO MATCH ALL CUSHIONS        17       0.017\n",
       "\n",
       "[5398 rows x 3 columns]"
      ]
     },
     "execution_count": 51,
     "metadata": {},
     "output_type": "execute_result"
    }
   ],
   "source": [
    "\n",
    "\n",
    "# Group by 'Description' and calculate both total quantity and total price\n",
    "products_summary = dt.groupby('Description').agg({'Quantity': 'sum', 'TotalPrice': 'sum'})\n",
    "\n",
    "# Sort the products by 'TotalPrice' in descending order\n",
    "products_summary = products_summary.sort_values(by='TotalPrice', ascending=False)\n",
    "\n",
    "# Reset the index to make 'Description' a column\n",
    "products_summary = products_summary.reset_index()\n",
    "\n",
    "# Display the sorted table\n",
    "products_summary\n",
    "\n",
    "\n",
    "\n",
    "\n"
   ]
  },
  {
   "cell_type": "markdown",
   "metadata": {},
   "source": [
    "Let's examine the products with the highest price purchased by known and unknown customers, we see that unknown customers can pay a much higher price for the same product than known customers and the value of unknown customers' products is also the same. 3 times higher than known customers. From there we see the tendency of unknown customers to pay higher prices as well as buy more expensive products."
   ]
  },
  {
   "cell_type": "code",
   "execution_count": null,
   "metadata": {},
   "outputs": [
    {
     "data": {
      "text/html": [
       "<div>\n",
       "<style scoped>\n",
       "    .dataframe tbody tr th:only-of-type {\n",
       "        vertical-align: middle;\n",
       "    }\n",
       "\n",
       "    .dataframe tbody tr th {\n",
       "        vertical-align: top;\n",
       "    }\n",
       "\n",
       "    .dataframe thead th {\n",
       "        text-align: right;\n",
       "    }\n",
       "</style>\n",
       "<table border=\"1\" class=\"dataframe\">\n",
       "  <thead>\n",
       "    <tr style=\"text-align: right;\">\n",
       "      <th></th>\n",
       "      <th>Customer ID Status</th>\n",
       "      <th>Invoice</th>\n",
       "      <th>StockCode</th>\n",
       "      <th>Description</th>\n",
       "      <th>Quantity</th>\n",
       "      <th>InvoiceDate</th>\n",
       "      <th>Price</th>\n",
       "      <th>Customer ID</th>\n",
       "      <th>Country</th>\n",
       "      <th>TotalPrice</th>\n",
       "      <th>CustomerType</th>\n",
       "    </tr>\n",
       "  </thead>\n",
       "  <tbody>\n",
       "    <tr>\n",
       "      <th>241827</th>\n",
       "      <td>Without Customer ID</td>\n",
       "      <td>512771</td>\n",
       "      <td>M</td>\n",
       "      <td>Manual</td>\n",
       "      <td>1</td>\n",
       "      <td>2010-06-17 16:53:00</td>\n",
       "      <td>25111.09</td>\n",
       "      <td>NaN</td>\n",
       "      <td>United Kingdom</td>\n",
       "      <td>25111.09</td>\n",
       "      <td>Unknown</td>\n",
       "    </tr>\n",
       "    <tr>\n",
       "      <th>517955</th>\n",
       "      <td>Without Customer ID</td>\n",
       "      <td>537632</td>\n",
       "      <td>AMAZONFEE</td>\n",
       "      <td>AMAZON FEE</td>\n",
       "      <td>1</td>\n",
       "      <td>2010-12-07 15:08:00</td>\n",
       "      <td>13541.33</td>\n",
       "      <td>NaN</td>\n",
       "      <td>United Kingdom</td>\n",
       "      <td>13541.33</td>\n",
       "      <td>Unknown</td>\n",
       "    </tr>\n",
       "    <tr>\n",
       "      <th>299982</th>\n",
       "      <td>Without Customer ID</td>\n",
       "      <td>A563185</td>\n",
       "      <td>B</td>\n",
       "      <td>Adjust bad debt</td>\n",
       "      <td>1</td>\n",
       "      <td>2011-08-12 14:50:00</td>\n",
       "      <td>11062.06</td>\n",
       "      <td>NaN</td>\n",
       "      <td>United Kingdom</td>\n",
       "      <td>11062.06</td>\n",
       "      <td>Unknown</td>\n",
       "    </tr>\n",
       "    <tr>\n",
       "      <th>135015</th>\n",
       "      <td>Without Customer ID</td>\n",
       "      <td>502265</td>\n",
       "      <td>M</td>\n",
       "      <td>Manual</td>\n",
       "      <td>1</td>\n",
       "      <td>2010-03-23 15:28:00</td>\n",
       "      <td>10953.50</td>\n",
       "      <td>NaN</td>\n",
       "      <td>United Kingdom</td>\n",
       "      <td>10953.50</td>\n",
       "      <td>Unknown</td>\n",
       "    </tr>\n",
       "    <tr>\n",
       "      <th>342147</th>\n",
       "      <td>Without Customer ID</td>\n",
       "      <td>522796</td>\n",
       "      <td>M</td>\n",
       "      <td>Manual</td>\n",
       "      <td>1</td>\n",
       "      <td>2010-09-16 15:12:00</td>\n",
       "      <td>10468.80</td>\n",
       "      <td>NaN</td>\n",
       "      <td>United Kingdom</td>\n",
       "      <td>10468.80</td>\n",
       "      <td>Unknown</td>\n",
       "    </tr>\n",
       "    <tr>\n",
       "      <th>135013</th>\n",
       "      <td>With Customer ID</td>\n",
       "      <td>502263</td>\n",
       "      <td>M</td>\n",
       "      <td>Manual</td>\n",
       "      <td>1</td>\n",
       "      <td>2010-03-23 15:22:00</td>\n",
       "      <td>10953.50</td>\n",
       "      <td>12918.0</td>\n",
       "      <td>United Kingdom</td>\n",
       "      <td>10953.50</td>\n",
       "      <td>Known</td>\n",
       "    </tr>\n",
       "    <tr>\n",
       "      <th>358639</th>\n",
       "      <td>With Customer ID</td>\n",
       "      <td>524159</td>\n",
       "      <td>M</td>\n",
       "      <td>Manual</td>\n",
       "      <td>1</td>\n",
       "      <td>2010-09-27 16:12:00</td>\n",
       "      <td>10468.80</td>\n",
       "      <td>14063.0</td>\n",
       "      <td>United Kingdom</td>\n",
       "      <td>10468.80</td>\n",
       "      <td>Known</td>\n",
       "    </tr>\n",
       "    <tr>\n",
       "      <th>74356</th>\n",
       "      <td>With Customer ID</td>\n",
       "      <td>496115</td>\n",
       "      <td>M</td>\n",
       "      <td>Manual</td>\n",
       "      <td>1</td>\n",
       "      <td>2010-01-29 11:04:00</td>\n",
       "      <td>8985.60</td>\n",
       "      <td>17949.0</td>\n",
       "      <td>United Kingdom</td>\n",
       "      <td>8985.60</td>\n",
       "      <td>Known</td>\n",
       "    </tr>\n",
       "    <tr>\n",
       "      <th>173382</th>\n",
       "      <td>With Customer ID</td>\n",
       "      <td>551697</td>\n",
       "      <td>POST</td>\n",
       "      <td>POSTAGE</td>\n",
       "      <td>1</td>\n",
       "      <td>2011-05-03 13:46:00</td>\n",
       "      <td>8142.75</td>\n",
       "      <td>16029.0</td>\n",
       "      <td>United Kingdom</td>\n",
       "      <td>8142.75</td>\n",
       "      <td>Known</td>\n",
       "    </tr>\n",
       "    <tr>\n",
       "      <th>129903</th>\n",
       "      <td>With Customer ID</td>\n",
       "      <td>501766</td>\n",
       "      <td>M</td>\n",
       "      <td>Manual</td>\n",
       "      <td>1</td>\n",
       "      <td>2010-03-19 11:35:00</td>\n",
       "      <td>6958.17</td>\n",
       "      <td>15760.0</td>\n",
       "      <td>Norway</td>\n",
       "      <td>6958.17</td>\n",
       "      <td>Known</td>\n",
       "    </tr>\n",
       "  </tbody>\n",
       "</table>\n",
       "</div>"
      ],
      "text/plain": [
       "         Customer ID Status  Invoice  StockCode      Description  Quantity  \\\n",
       "241827  Without Customer ID   512771          M           Manual         1   \n",
       "517955  Without Customer ID   537632  AMAZONFEE       AMAZON FEE         1   \n",
       "299982  Without Customer ID  A563185          B  Adjust bad debt         1   \n",
       "135015  Without Customer ID   502265          M           Manual         1   \n",
       "342147  Without Customer ID   522796          M           Manual         1   \n",
       "135013     With Customer ID   502263          M           Manual         1   \n",
       "358639     With Customer ID   524159          M           Manual         1   \n",
       "74356      With Customer ID   496115          M           Manual         1   \n",
       "173382     With Customer ID   551697       POST          POSTAGE         1   \n",
       "129903     With Customer ID   501766          M           Manual         1   \n",
       "\n",
       "               InvoiceDate     Price  Customer ID         Country  TotalPrice  \\\n",
       "241827 2010-06-17 16:53:00  25111.09          NaN  United Kingdom    25111.09   \n",
       "517955 2010-12-07 15:08:00  13541.33          NaN  United Kingdom    13541.33   \n",
       "299982 2011-08-12 14:50:00  11062.06          NaN  United Kingdom    11062.06   \n",
       "135015 2010-03-23 15:28:00  10953.50          NaN  United Kingdom    10953.50   \n",
       "342147 2010-09-16 15:12:00  10468.80          NaN  United Kingdom    10468.80   \n",
       "135013 2010-03-23 15:22:00  10953.50      12918.0  United Kingdom    10953.50   \n",
       "358639 2010-09-27 16:12:00  10468.80      14063.0  United Kingdom    10468.80   \n",
       "74356  2010-01-29 11:04:00   8985.60      17949.0  United Kingdom     8985.60   \n",
       "173382 2011-05-03 13:46:00   8142.75      16029.0  United Kingdom     8142.75   \n",
       "129903 2010-03-19 11:35:00   6958.17      15760.0          Norway     6958.17   \n",
       "\n",
       "       CustomerType  \n",
       "241827      Unknown  \n",
       "517955      Unknown  \n",
       "299982      Unknown  \n",
       "135015      Unknown  \n",
       "342147      Unknown  \n",
       "135013        Known  \n",
       "358639        Known  \n",
       "74356         Known  \n",
       "173382        Known  \n",
       "129903        Known  "
      ]
     },
     "execution_count": 58,
     "metadata": {},
     "output_type": "execute_result"
    }
   ],
   "source": [
    "orders_without_customer_id = dt[dt['Customer ID'].isna()]\n",
    "orders_with_customer_id = dt[dt['Customer ID'].notna()]\n",
    "\n",
    "top_5_without_customer_id = orders_without_customer_id.nlargest(5, 'Price')\n",
    "top_5_with_customer_id = orders_with_customer_id.nlargest(5, 'Price')\n",
    "\n",
    "top_5_combined = pd.concat([top_5_without_customer_id, top_5_with_customer_id], keys=['Without Customer ID', 'With Customer ID'])\n",
    "\n",
    "top_5_combined = top_5_combined.reset_index(level=0).rename(columns={'level_0': 'Customer ID Status'})\n",
    "\n",
    "top_5_combined\n",
    "\n"
   ]
  },
  {
   "cell_type": "code",
   "execution_count": 60,
   "metadata": {},
   "outputs": [
    {
     "name": "stderr",
     "output_type": "stream",
     "text": [
      "C:\\Users\\Weirdle Crab\\AppData\\Local\\Temp\\ipykernel_16572\\778299735.py:3: DeprecationWarning: DataFrameGroupBy.apply operated on the grouping columns. This behavior is deprecated, and in a future version of pandas the grouping columns will be excluded from the operation. Either pass `include_groups=False` to exclude the groupings or explicitly select the grouping columns after groupby to silence this warning.\n",
      "  average_price_per_product = dt.groupby('CustomerType').apply(\n"
     ]
    },
    {
     "data": {
      "text/html": [
       "<div>\n",
       "<style scoped>\n",
       "    .dataframe tbody tr th:only-of-type {\n",
       "        vertical-align: middle;\n",
       "    }\n",
       "\n",
       "    .dataframe tbody tr th {\n",
       "        vertical-align: top;\n",
       "    }\n",
       "\n",
       "    .dataframe thead th {\n",
       "        text-align: right;\n",
       "    }\n",
       "</style>\n",
       "<table border=\"1\" class=\"dataframe\">\n",
       "  <thead>\n",
       "    <tr style=\"text-align: right;\">\n",
       "      <th></th>\n",
       "      <th>CustomerType</th>\n",
       "      <th>AvgPricePerProduct</th>\n",
       "    </tr>\n",
       "  </thead>\n",
       "  <tbody>\n",
       "    <tr>\n",
       "      <th>0</th>\n",
       "      <td>Known</td>\n",
       "      <td>1.652534</td>\n",
       "    </tr>\n",
       "    <tr>\n",
       "      <th>1</th>\n",
       "      <td>Unknown</td>\n",
       "      <td>4.487086</td>\n",
       "    </tr>\n",
       "  </tbody>\n",
       "</table>\n",
       "</div>"
      ],
      "text/plain": [
       "  CustomerType  AvgPricePerProduct\n",
       "0        Known            1.652534\n",
       "1      Unknown            4.487086"
      ]
     },
     "execution_count": 60,
     "metadata": {},
     "output_type": "execute_result"
    }
   ],
   "source": [
    "\n",
    "dt['CustomerType'] = dt['Customer ID'].notna().map({True: 'Known', False: 'Unknown'})\n",
    "\n",
    "average_price_per_product = dt.groupby('CustomerType').apply(\n",
    "    lambda x: (x['TotalPrice'].sum() / x['Quantity'].sum())\n",
    ").reset_index(name='AvgPricePerProduct')\n",
    "\n",
    "average_price_per_product\n",
    "\n",
    "\n"
   ]
  },
  {
   "cell_type": "code",
   "execution_count": 62,
   "metadata": {},
   "outputs": [
    {
     "data": {
      "image/png": "[encoded data removed]",
      "text/plain": [
       "<Figure size 640x480 with 1 Axes>"
      ]
     },
     "metadata": {},
     "output_type": "display_data"
    }
   ],
   "source": [
    "bounds=(0, 26000)\n",
    "bins=50\n",
    "ax = dt.dropna()[\"Price\"].plot(kind=\"hist\", range=bounds, bins=bins, density=True, label=\"Known customers\")\n",
    "_ = dt[dt[\"Customer ID\"].isnull()][\"Price\"].plot(kind=\"hist\", range=bounds, bins=bins, alpha=0.6, density=True, \n",
    "                                                 label=\"Unknown customers\")\n",
    "ax.set_yscale(\"log\")\n",
    "ax.set_xscale(\"log\")\n",
    "ax.set_xlabel(\"Price in £\")\n",
    "_ = ax.legend()"
   ]
  },
  {
   "cell_type": "code",
   "execution_count": 63,
   "metadata": {},
   "outputs": [],
   "source": [
    "def ecdf(data):\n",
    "    \"\"\" Compute ECDF \"\"\"\n",
    "    x = np.sort(data)\n",
    "    n = x.size\n",
    "    y = np.arange(1, n+1) / n\n",
    "    return(x,y)"
   ]
  },
  {
   "cell_type": "code",
   "execution_count": 65,
   "metadata": {},
   "outputs": [
    {
     "data": {
      "text/plain": [
       "<matplotlib.legend.Legend at 0x15ee86e3920>"
      ]
     },
     "execution_count": 65,
     "metadata": {},
     "output_type": "execute_result"
    },
    {
     "data": {
      "image/png": "[encoded data removed]",
      "text/plain": [
       "<Figure size 640x480 with 1 Axes>"
      ]
     },
     "metadata": {},
     "output_type": "display_data"
    }
   ],
   "source": [
    "price_known = dt.dropna()[\"Price\"].values\n",
    "price_unknown = dt[dt[\"Customer ID\"].isnull()][\"Price\"].values\n",
    "\n",
    "f, ax = plt.subplots()\n",
    "ax.scatter(*ecdf(price_known), label=\"Known customers\")\n",
    "ax.scatter(*ecdf(price_unknown), label=\"Unknown customers\")\n",
    "ax.set_xscale(\"log\")\n",
    "ax.set_ylabel(\"ECDF\")\n",
    "ax.set_xlabel(\"Price in £\")\n",
    "ax.legend()"
   ]
  },
  {
   "cell_type": "code",
   "execution_count": 67,
   "metadata": {},
   "outputs": [
    {
     "data": {
      "image/png": "[encoded data removed]",
      "text/plain": [
       "<Figure size 640x480 with 1 Axes>"
      ]
     },
     "metadata": {},
     "output_type": "display_data"
    }
   ],
   "source": [
    "bounds=(0, 40000)\n",
    "bins=50\n",
    "ax = dt.dropna()[\"Quantity\"].plot(kind=\"hist\", range=bounds, bins=bins, density=True, label=\"Known customers\", alpha=0.7)\n",
    "_ = dt[dt[\"Customer ID\"].isnull()][\"Quantity\"].plot(kind=\"hist\", range=bounds, bins=bins, density=True, \n",
    "                                                    label=\"Unknown customers\", alpha=0.8)\n",
    "ax.set_yscale(\"log\")\n",
    "ax.set_xscale(\"log\")\n",
    "ax.set_xlabel(\"Quantity\")\n",
    "_ = ax.legend()"
   ]
  },
  {
   "cell_type": "markdown",
   "metadata": {},
   "source": [
    "Non-subscribed customers tend to focus on expensive but low-volume products and vice versa for registered customers. And finally, unregistered customers tend to pay higher bills per invoice than registered customers"
   ]
  },
  {
   "cell_type": "code",
   "execution_count": 68,
   "metadata": {},
   "outputs": [
    {
     "data": {
      "text/plain": [
       "<matplotlib.legend.Legend at 0x15eda6050a0>"
      ]
     },
     "execution_count": 68,
     "metadata": {},
     "output_type": "execute_result"
    },
    {
     "data": {
      "image/png": "[encoded data removed]",
      "text/plain": [
       "<Figure size 640x480 with 1 Axes>"
      ]
     },
     "metadata": {},
     "output_type": "display_data"
    }
   ],
   "source": [
    "quant_known = dt.dropna()[\"Quantity\"].values\n",
    "quant_unknown = dt[dt[\"Customer ID\"].isnull()][\"Quantity\"].values\n",
    "\n",
    "f, ax = plt.subplots()\n",
    "ax.scatter(*ecdf(quant_known), label=\"Known customers\")\n",
    "ax.scatter(*ecdf(quant_unknown), label=\"Unknown customers\")\n",
    "ax.set_xscale(\"log\")\n",
    "ax.set_ylabel(\"ECDF\")\n",
    "ax.set_xlabel(\"Quantity\")\n",
    "ax.legend()"
   ]
  },
  {
   "cell_type": "code",
   "execution_count": 69,
   "metadata": {},
   "outputs": [
    {
     "data": {
      "image/png": "[encoded data removed]",
      "text/plain": [
       "<Figure size 640x480 with 1 Axes>"
      ]
     },
     "metadata": {},
     "output_type": "display_data"
    }
   ],
   "source": [
    "df_inv = dt.dropna().groupby(\"Invoice\").agg({\"TotalPrice\": \"sum\", \"Quantity\":\"sum\"})\n",
    "df_inv_na = dt[dt[\"Customer ID\"].isnull()].groupby(\"Invoice\").agg({\"TotalPrice\": \"sum\", \"Quantity\":\"sum\"})\n",
    "\n",
    "bounds=(0, 27000)\n",
    "bins=40\n",
    "ax = df_inv[\"TotalPrice\"].plot(kind=\"hist\", range=bounds, bins=bins, density=True, label=\"Known customers\")\n",
    "_ = df_inv_na[\"TotalPrice\"].plot(kind=\"hist\", range=bounds, bins=bins, alpha=0.6, density=True, label=\"Unknown customers\")\n",
    "ax.set_yscale(\"log\")\n",
    "#ax.set_xscale(\"log\")\n",
    "ax.set_xlabel(\"Price in £\")\n",
    "_ = ax.legend()"
   ]
  },
  {
   "cell_type": "code",
   "execution_count": 85,
   "metadata": {},
   "outputs": [
    {
     "data": {
      "text/plain": [
       "<matplotlib.legend.Legend at 0x15ee6b2b920>"
      ]
     },
     "execution_count": 85,
     "metadata": {},
     "output_type": "execute_result"
    },
    {
     "data": {
      "image/png": "[encoded data removed]",
      "text/plain": [
       "<Figure size 640x480 with 1 Axes>"
      ]
     },
     "metadata": {},
     "output_type": "display_data"
    }
   ],
   "source": [
    "totprice_known = dt.dropna().groupby(\"Invoice\")[\"TotalPrice\"].sum().values\n",
    "totprice_unknown = dt[dt[\"Customer ID\"].isnull()].groupby(\"Invoice\")[\"TotalPrice\"].sum().values\n",
    "\n",
    "f, ax = plt.subplots()\n",
    "ax.scatter(*ecdf(totprice_known), label=\"Known customers\")\n",
    "ax.scatter(*ecdf(totprice_unknown), label=\"Unknown customers\")\n",
    "ax.set_xscale(\"log\")\n",
    "ax.set_ylabel(\"ECDF\")\n",
    "ax.set_xlabel(\"Price in £\")\n",
    "ax.legend()"
   ]
  },
  {
   "cell_type": "code",
   "execution_count": 87,
   "metadata": {},
   "outputs": [
    {
     "data": {
      "image/png": "[encoded data removed]",
      "text/plain": [
       "<Figure size 640x480 with 1 Axes>"
      ]
     },
     "metadata": {},
     "output_type": "display_data"
    }
   ],
   "source": [
    "ax = df_inv.plot(kind=\"scatter\", x=\"Quantity\", y=\"TotalPrice\", alpha=0.8, label=\"known customers\")\n",
    "df_inv_na.plot(kind=\"scatter\", x=\"Quantity\", y=\"TotalPrice\", ax=ax, color=\"crimson\", alpha=0.8, label=\"Unknown customers\")\n",
    "ax.set_ylim(-100, 30000)\n",
    "ax.set_xlim(-100, 20000)\n",
    "ax.set_ylabel(\"Total price payed per invoice\")\n",
    "ax.set_xlabel(\"Total number of items ordered per invoice\")\n",
    "_ = ax.legend()"
   ]
  },
  {
   "cell_type": "markdown",
   "metadata": {},
   "source": [
    "Customers tend to buy more in the last months of the year and this is true for both registered and non-registered customers."
   ]
  },
  {
   "cell_type": "code",
   "execution_count": 79,
   "metadata": {},
   "outputs": [
    {
     "data": {
      "image/png": "[encoded data removed]",
      "text/plain": [
       "<Figure size 1000x600 with 1 Axes>"
      ]
     },
     "metadata": {},
     "output_type": "display_data"
    }
   ],
   "source": [
    "\n",
    "\n",
    "ax = monthly_sales.T.plot(kind='bar', figsize=(10, 6), stacked=True)\n",
    "plt.title(\"Monthly Product Sales by Customer Type\", fontsize=16)\n",
    "plt.xlabel(\"Month\", fontsize=12)\n",
    "plt.ylabel(\"Total Products Sold\", fontsize=12)\n",
    "plt.legend(title=\"Customer Type\", fontsize=10)\n",
    "plt.xticks(ticks=range(12), labels=[\"Jan\", \"Feb\", \"Mar\", \"Apr\", \"May\", \"Jun\", \"Jul\", \"Aug\", \"Sep\", \"Oct\", \"Nov\", \"Dec\"], rotation=45)\n",
    "\n",
    "formatter = ScalarFormatter(useMathText=True)\n",
    "formatter.set_powerlimits((0, 0))\n",
    "ax.yaxis.set_major_formatter(formatter)\n",
    "\n",
    "ax.ticklabel_format(axis='y', style='scientific', scilimits=(0, 0))\n",
    "\n",
    "plt.tight_layout()\n",
    "plt.show()\n"
   ]
  },
  {
   "cell_type": "markdown",
   "metadata": {},
   "source": [
    "As shown in the plot below, we can see that almost all orders and revenue come from the **United Kingdom**"
   ]
  },
  {
   "cell_type": "code",
   "execution_count": 82,
   "metadata": {},
   "outputs": [
    {
     "data": {
      "image/png": "[encoded data removed]",
      "text/plain": [
       "<Figure size 1200x600 with 1 Axes>"
      ]
     },
     "metadata": {},
     "output_type": "display_data"
    }
   ],
   "source": [
    "\n",
    "products_by_country = dt.groupby('Country').agg({'Quantity': 'sum'}).reset_index()\n",
    "\n",
    "# Sort by total quantity for better visualization\n",
    "products_by_country = products_by_country.sort_values(by='Quantity', ascending=False)\n",
    "\n",
    "# Plot the data as a bar chart\n",
    "plt.figure(figsize=(12, 6))\n",
    "plt.bar(products_by_country['Country'], products_by_country['Quantity'], color='skyblue', edgecolor='black')\n",
    "plt.title(\"Total Products Sold by Country\", fontsize=16)\n",
    "plt.xlabel(\"Country\", fontsize=12)\n",
    "plt.ylabel(\"Total Products Sold\", fontsize=12)\n",
    "plt.xticks(rotation=45, fontsize=10, ha='right')\n",
    "plt.tight_layout()\n",
    "plt.show()\n"
   ]
  },
  {
   "cell_type": "code",
   "execution_count": 83,
   "metadata": {},
   "outputs": [
    {
     "data": {
      "image/png": "[encoded data removed]",
      "text/plain": [
       "<Figure size 1200x600 with 1 Axes>"
      ]
     },
     "metadata": {},
     "output_type": "display_data"
    }
   ],
   "source": [
    "\n",
    "\n",
    "# Group by 'Country' and calculate the total price of products sold\n",
    "total_price_by_country = dt.groupby('Country').agg({'TotalPrice': 'sum'}).reset_index()\n",
    "\n",
    "# Sort by total price for better visualization\n",
    "total_price_by_country = total_price_by_country.sort_values(by='TotalPrice', ascending=False)\n",
    "\n",
    "# Plot the data as a bar chart\n",
    "import matplotlib.pyplot as plt\n",
    "\n",
    "plt.figure(figsize=(12, 6))\n",
    "plt.bar(total_price_by_country['Country'], total_price_by_country['TotalPrice'], color='orange', edgecolor='black')\n",
    "plt.title(\"Total Price of Products Sold by Country\", fontsize=16)\n",
    "plt.xlabel(\"Country\", fontsize=12)\n",
    "plt.ylabel(\"Total Price\", fontsize=12)\n",
    "plt.xticks(rotation=45, fontsize=10, ha='right')\n",
    "plt.tight_layout()\n",
    "plt.show()\n"
   ]
  }
 ],
 "metadata": {
  "kernelspec": {
   "display_name": "Python 3 (ipykernel)",
   "language": "python",
   "name": "python3"
  },
  "language_info": {
   "codemirror_mode": {
    "name": "ipython",
    "version": 3
   },
   "file_extension": ".py",
   "mimetype": "text/x-python",
   "name": "python",
   "nbconvert_exporter": "python",
   "pygments_lexer": "ipython3",
   "version": "3.12.7"
  }
 },
 "nbformat": 4,
 "nbformat_minor": 4
}
