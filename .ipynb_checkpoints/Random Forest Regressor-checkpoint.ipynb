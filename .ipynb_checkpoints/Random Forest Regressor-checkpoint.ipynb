{
 "cells": [
  {
   "cell_type": "markdown",
   "id": "edd7dbf8-dd64-4b12-aba5-ece09ad19189",
   "metadata": {},
   "source": [
    "# Random Forest Regression"
   ]
  },
  {
   "cell_type": "markdown",
   "id": "137ff1f9-e211-4728-ad84-72bae7ae4ab7",
   "metadata": {},
   "source": [
    "### Step 1: Import Libraries"
   ]
  },
  {
   "cell_type": "code",
   "execution_count": 5,
   "id": "e1f1177b-f2b8-4b48-a52f-ab28fdcd9082",
   "metadata": {},
   "outputs": [
    {
     "name": "stdout",
     "output_type": "stream",
     "text": [
      "Requirement already satisfied: openpyxl in /opt/anaconda3/lib/python3.12/site-packages (3.1.5)\n",
      "Requirement already satisfied: et-xmlfile in /opt/anaconda3/lib/python3.12/site-packages (from openpyxl) (1.1.0)\n",
      "Note: you may need to restart the kernel to use updated packages.\n"
     ]
    }
   ],
   "source": [
    "pip install openpyxl #install openpyxl for opening .xlsx data set"
   ]
  },
  {
   "cell_type": "code",
   "execution_count": 4,
   "id": "db331b01-07c1-4e1f-a739-c7279302c6fb",
   "metadata": {},
   "outputs": [],
   "source": [
    "import pandas as pd\n",
    "import numpy as np\n",
    "from sklearn.model_selection import train_test_split, GridSearchCV\n",
    "from sklearn.preprocessing import LabelEncoder, StandardScaler\n",
    "from sklearn.ensemble import RandomForestRegressor\n",
    "from sklearn.metrics import mean_squared_error\n",
    "import matplotlib.pyplot as plt"
   ]
  },
  {
   "cell_type": "markdown",
   "id": "a1eef880-9c01-41b3-b93b-947b03ab8b72",
   "metadata": {},
   "source": [
    "### Step 2: Load and Prepare the Data"
   ]
  },
  {
   "cell_type": "code",
   "execution_count": 5,
   "id": "411d037a-a4f7-454e-ad7c-d93ec5cd049c",
   "metadata": {},
   "outputs": [
    {
     "name": "stdout",
     "output_type": "stream",
     "text": [
      "Loading data...\n",
      "Preview of data from Year 2009-2010:\n",
      "  Invoice StockCode                          Description  Quantity  \\\n",
      "0  489434     85048  15CM CHRISTMAS GLASS BALL 20 LIGHTS        12   \n",
      "1  489434    79323P                   PINK CHERRY LIGHTS        12   \n",
      "2  489434    79323W                  WHITE CHERRY LIGHTS        12   \n",
      "3  489434     22041         RECORD FRAME 7\" SINGLE SIZE         48   \n",
      "4  489434     21232       STRAWBERRY CERAMIC TRINKET BOX        24   \n",
      "\n",
      "          InvoiceDate  Price  Customer ID         Country  \n",
      "0 2009-12-01 07:45:00   6.95      13085.0  United Kingdom  \n",
      "1 2009-12-01 07:45:00   6.75      13085.0  United Kingdom  \n",
      "2 2009-12-01 07:45:00   6.75      13085.0  United Kingdom  \n",
      "3 2009-12-01 07:45:00   2.10      13085.0  United Kingdom  \n",
      "4 2009-12-01 07:45:00   1.25      13085.0  United Kingdom  \n",
      "\n",
      "Preview of data from Year 2010-2011:\n",
      "  Invoice StockCode                          Description  Quantity  \\\n",
      "0  536365    85123A   WHITE HANGING HEART T-LIGHT HOLDER         6   \n",
      "1  536365     71053                  WHITE METAL LANTERN         6   \n",
      "2  536365    84406B       CREAM CUPID HEARTS COAT HANGER         8   \n",
      "3  536365    84029G  KNITTED UNION FLAG HOT WATER BOTTLE         6   \n",
      "4  536365    84029E       RED WOOLLY HOTTIE WHITE HEART.         6   \n",
      "\n",
      "          InvoiceDate  Price  Customer ID         Country  \n",
      "0 2010-12-01 08:26:00   2.55      17850.0  United Kingdom  \n",
      "1 2010-12-01 08:26:00   3.39      17850.0  United Kingdom  \n",
      "2 2010-12-01 08:26:00   2.75      17850.0  United Kingdom  \n",
      "3 2010-12-01 08:26:00   3.39      17850.0  United Kingdom  \n",
      "4 2010-12-01 08:26:00   3.39      17850.0  United Kingdom  \n",
      "Combining data...\n",
      "\n",
      "Preview of combined data:\n",
      "  Invoice StockCode                          Description  Quantity  \\\n",
      "0  489434     85048  15CM CHRISTMAS GLASS BALL 20 LIGHTS        12   \n",
      "1  489434    79323P                   PINK CHERRY LIGHTS        12   \n",
      "2  489434    79323W                  WHITE CHERRY LIGHTS        12   \n",
      "3  489434     22041         RECORD FRAME 7\" SINGLE SIZE         48   \n",
      "4  489434     21232       STRAWBERRY CERAMIC TRINKET BOX        24   \n",
      "\n",
      "          InvoiceDate  Price  Customer ID         Country  \n",
      "0 2009-12-01 07:45:00   6.95      13085.0  United Kingdom  \n",
      "1 2009-12-01 07:45:00   6.75      13085.0  United Kingdom  \n",
      "2 2009-12-01 07:45:00   6.75      13085.0  United Kingdom  \n",
      "3 2009-12-01 07:45:00   2.10      13085.0  United Kingdom  \n",
      "4 2009-12-01 07:45:00   1.25      13085.0  United Kingdom  \n",
      "Dropping missing values...\n",
      "\n",
      "Data after dropping missing values:\n",
      "  Invoice StockCode                          Description  Quantity  \\\n",
      "0  489434     85048  15CM CHRISTMAS GLASS BALL 20 LIGHTS        12   \n",
      "1  489434    79323P                   PINK CHERRY LIGHTS        12   \n",
      "2  489434    79323W                  WHITE CHERRY LIGHTS        12   \n",
      "3  489434     22041         RECORD FRAME 7\" SINGLE SIZE         48   \n",
      "4  489434     21232       STRAWBERRY CERAMIC TRINKET BOX        24   \n",
      "\n",
      "          InvoiceDate  Price  Customer ID         Country  \n",
      "0 2009-12-01 07:45:00   6.95      13085.0  United Kingdom  \n",
      "1 2009-12-01 07:45:00   6.75      13085.0  United Kingdom  \n",
      "2 2009-12-01 07:45:00   6.75      13085.0  United Kingdom  \n",
      "3 2009-12-01 07:45:00   2.10      13085.0  United Kingdom  \n",
      "4 2009-12-01 07:45:00   1.25      13085.0  United Kingdom  \n",
      "Encoding categorical variables...\n",
      "\n",
      "Data after encoding categorical variables:\n",
      "  Invoice StockCode                          Description  Quantity  \\\n",
      "0  489434     85048  15CM CHRISTMAS GLASS BALL 20 LIGHTS        12   \n",
      "1  489434    79323P                   PINK CHERRY LIGHTS        12   \n",
      "2  489434    79323W                  WHITE CHERRY LIGHTS        12   \n",
      "3  489434     22041         RECORD FRAME 7\" SINGLE SIZE         48   \n",
      "4  489434     21232       STRAWBERRY CERAMIC TRINKET BOX        24   \n",
      "\n",
      "          InvoiceDate  Price  Customer ID  Country  \n",
      "0 2009-12-01 07:45:00   6.95      13085.0       38  \n",
      "1 2009-12-01 07:45:00   6.75      13085.0       38  \n",
      "2 2009-12-01 07:45:00   6.75      13085.0       38  \n",
      "3 2009-12-01 07:45:00   2.10      13085.0       38  \n",
      "4 2009-12-01 07:45:00   1.25      13085.0       38  \n",
      "\n",
      "Data with TotalValue column added:\n",
      "  Invoice StockCode                          Description  Quantity  \\\n",
      "0  489434     85048  15CM CHRISTMAS GLASS BALL 20 LIGHTS        12   \n",
      "1  489434    79323P                   PINK CHERRY LIGHTS        12   \n",
      "2  489434    79323W                  WHITE CHERRY LIGHTS        12   \n",
      "3  489434     22041         RECORD FRAME 7\" SINGLE SIZE         48   \n",
      "4  489434     21232       STRAWBERRY CERAMIC TRINKET BOX        24   \n",
      "\n",
      "          InvoiceDate  Price  Customer ID  Country  TotalValue  \n",
      "0 2009-12-01 07:45:00   6.95      13085.0       38        83.4  \n",
      "1 2009-12-01 07:45:00   6.75      13085.0       38        81.0  \n",
      "2 2009-12-01 07:45:00   6.75      13085.0       38        81.0  \n",
      "3 2009-12-01 07:45:00   2.10      13085.0       38       100.8  \n",
      "4 2009-12-01 07:45:00   1.25      13085.0       38        30.0  \n",
      "Sampling subset of data...\n",
      "\n",
      "Preview of the sampled subset:\n",
      "       Invoice StockCode                          Description  Quantity  \\\n",
      "723499  554000     23281       FOLDING BUTTERFLY MIRROR RED          12   \n",
      "982498  575729     22406        MONEY BOX KINGS CHOICE DESIGN        12   \n",
      "236404  512286     22435       SET OF 9 HEART SHAPED BALLOONS        10   \n",
      "435239  530957     22800  ANTIQUE TALL SWIRLGLASS TRINKET POT         8   \n",
      "740008  555586     84212        ASSORTED FLOWER COLOUR \"LEIS\"        72   \n",
      "\n",
      "               InvoiceDate  Price  Customer ID  Country  TotalValue  \n",
      "723499 2011-05-20 11:53:00   0.83      14794.0       38        9.96  \n",
      "982498 2011-11-10 19:49:00   1.25      17932.0       38       15.00  \n",
      "236404 2010-06-14 14:27:00   1.25      15967.0       38       12.50  \n",
      "435239 2010-11-04 18:53:00   3.75      17340.0       38       30.00  \n",
      "740008 2011-06-06 09:12:00   0.65      14232.0       38       46.80  \n"
     ]
    }
   ],
   "source": [
    "# Load data\n",
    "print(\"Loading data...\")\n",
    "# Read all sheets into a dictionary\n",
    "sheets = pd.read_excel(\"online_retail_II.xlsx\", sheet_name=None)\n",
    "\n",
    "# Extract individual sheets\n",
    "data_2009_2010 = sheets['Year 2009-2010']\n",
    "data_2010_2011 = sheets['Year 2010-2011']\n",
    "\n",
    "# Display the first few rows of each sheet\n",
    "print(\"Preview of data from Year 2009-2010:\")\n",
    "print(data_2009_2010.head())\n",
    "print(\"\\nPreview of data from Year 2010-2011:\")\n",
    "print(data_2010_2011.head())\n",
    "\n",
    "# Combine both sheets for analysis\n",
    "print(\"Combining data...\")\n",
    "data = pd.concat([data_2009_2010, data_2010_2011], ignore_index=True)\n",
    "\n",
    "# Display the first few rows of the combined data\n",
    "print(\"\\nPreview of combined data:\")\n",
    "print(data.head())\n",
    "\n",
    "# Drop rows with missing values\n",
    "print(\"Dropping missing values...\")\n",
    "data.dropna(inplace=True)\n",
    "\n",
    "# Display the data after dropping missing values\n",
    "print(\"\\nData after dropping missing values:\")\n",
    "print(data.head())\n",
    "\n",
    "# Encode categorical variables\n",
    "print(\"Encoding categorical variables...\")\n",
    "le_country = LabelEncoder()\n",
    "data['Country'] = le_country.fit_transform(data['Country'])\n",
    "\n",
    "# Display data after encoding\n",
    "print(\"\\nData after encoding categorical variables:\")\n",
    "print(data.head())\n",
    "\n",
    "# Create a target variable (Total Invoice Value)\n",
    "data['TotalValue'] = data['Quantity'] * data['Price']\n",
    "\n",
    "# Display data with the new target variable\n",
    "print(\"\\nData with TotalValue column added:\")\n",
    "print(data.head())\n",
    "\n",
    "# Select a subset for faster processing\n",
    "print(\"Sampling subset of data...\")\n",
    "data_subset = data.sample(n=5000, random_state=42)\n",
    "\n",
    "# Display the sampled subset\n",
    "print(\"\\nPreview of the sampled subset:\")\n",
    "print(data_subset.head())"
   ]
  },
  {
   "cell_type": "markdown",
   "id": "7b9bfffb-c354-4ede-b2d2-46d114495984",
   "metadata": {},
   "source": [
    "### Step 3: Define Features and Target"
   ]
  },
  {
   "cell_type": "code",
   "execution_count": 6,
   "id": "5194345c-7e27-4f52-8564-3c263e6a3e15",
   "metadata": {},
   "outputs": [
    {
     "name": "stdout",
     "output_type": "stream",
     "text": [
      "Preview of Features (X):\n",
      "        Quantity  Price  Country\n",
      "723499        12   0.83       38\n",
      "982498        12   1.25       38\n",
      "236404        10   1.25       38\n",
      "435239         8   3.75       38\n",
      "740008        72   0.65       38\n",
      "\n",
      "Preview of Target (y):\n",
      "723499     9.96\n",
      "982498    15.00\n",
      "236404    12.50\n",
      "435239    30.00\n",
      "740008    46.80\n",
      "Name: TotalValue, dtype: float64\n",
      "Scaling features...\n",
      "\n",
      "Preview of Scaled Features:\n",
      "   Quantity     Price   Country\n",
      "0 -0.013501 -0.105337  0.315146\n",
      "1 -0.013501 -0.087179  0.315146\n",
      "2 -0.032863 -0.087179  0.315146\n",
      "3 -0.052224  0.020905  0.315146\n",
      "4  0.567352 -0.113119  0.315146\n",
      "Splitting data into training and testing sets...\n",
      "\n",
      "Shapes of training and testing sets:\n",
      "X_train: (3500, 3), X_test: (1500, 3)\n",
      "y_train: (3500,), y_test: (1500,)\n"
     ]
    }
   ],
   "source": [
    "# Define the independent variables (features) and the dependent variable (target)\n",
    "X = data_subset[['Quantity', 'Price', 'Country']]\n",
    "y = data_subset['TotalValue']\n",
    "\n",
    "# Display the first few rows of features and target\n",
    "print(\"Preview of Features (X):\")\n",
    "print(X.head())\n",
    "print(\"\\nPreview of Target (y):\")\n",
    "print(y.head())\n",
    "\n",
    "# Scale features\n",
    "print(\"Scaling features...\")\n",
    "scaler = StandardScaler()\n",
    "X_scaled = scaler.fit_transform(X)\n",
    "\n",
    "# Display the first few rows of scaled features\n",
    "print(\"\\nPreview of Scaled Features:\")\n",
    "print(pd.DataFrame(X_scaled, columns=['Quantity', 'Price', 'Country']).head())\n",
    "\n",
    "# Split data into training and testing sets\n",
    "print(\"Splitting data into training and testing sets...\")\n",
    "X_train, X_test, y_train, y_test = train_test_split(X_scaled, y, test_size=0.3, random_state=42)\n",
    "\n",
    "# Display the shape of the training and testing sets\n",
    "print(\"\\nShapes of training and testing sets:\")\n",
    "print(f\"X_train: {X_train.shape}, X_test: {X_test.shape}\")\n",
    "print(f\"y_train: {y_train.shape}, y_test: {y_test.shape}\")\n"
   ]
  },
  {
   "cell_type": "markdown",
   "id": "cc6d27d7-6e87-49ae-a0ee-ea973c294ea5",
   "metadata": {},
   "source": [
    "The dataset was prepared for modeling by defining the independent variables (Quantity, Price, and Country) as features and TotalValue as the target variable. The features were scaled using StandardScaler to normalize the data, ensuring that all variables are on a comparable scale. After scaling, the data was split into training and testing sets, with 70% allocated for training the model and 30% reserved for testing. The training set contains 3,500 samples, while the testing set includes 1,500 samples. This process ensures the model is trained on a balanced dataset and evaluated on unseen data to assess its performance accurately."
   ]
  },
  {
   "cell_type": "markdown",
   "id": "8aa7a6f2-52a3-4bda-9804-d3fad22afcb8",
   "metadata": {},
   "source": [
    "# Step 4: Train and Evaluate the Model"
   ]
  },
  {
   "cell_type": "code",
   "execution_count": 7,
   "id": "f9be8ab1-6e5b-44d9-af14-de00898bbd30",
   "metadata": {},
   "outputs": [
    {
     "name": "stdout",
     "output_type": "stream",
     "text": [
      "Training Random Forest Regressor...\n",
      "Defining hyperparameter grid...\n",
      "Starting Grid Search...\n",
      "Fitting 3 folds for each of 27 candidates, totalling 81 fits\n",
      "\n",
      "Best Parameters Found:\n",
      "{'max_depth': None, 'min_samples_split': 2, 'n_estimators': 50}\n",
      "\n",
      "Training the model with the best parameters...\n",
      "\n",
      "Making predictions...\n",
      "\n",
      "Model Evaluation:\n",
      "Mean Squared Error (MSE): 363.01\n",
      "\n",
      "Grid Search Results:\n",
      "Mean MSE: 1065.39, Parameters: {'max_depth': None, 'min_samples_split': 2, 'n_estimators': 50}\n",
      "Mean MSE: 1075.77, Parameters: {'max_depth': None, 'min_samples_split': 2, 'n_estimators': 100}\n",
      "Mean MSE: 1078.05, Parameters: {'max_depth': None, 'min_samples_split': 2, 'n_estimators': 150}\n",
      "Mean MSE: 1172.11, Parameters: {'max_depth': None, 'min_samples_split': 5, 'n_estimators': 50}\n",
      "Mean MSE: 1190.49, Parameters: {'max_depth': None, 'min_samples_split': 5, 'n_estimators': 100}\n",
      "Mean MSE: 1197.47, Parameters: {'max_depth': None, 'min_samples_split': 5, 'n_estimators': 150}\n",
      "Mean MSE: 1271.88, Parameters: {'max_depth': None, 'min_samples_split': 10, 'n_estimators': 50}\n",
      "Mean MSE: 1306.76, Parameters: {'max_depth': None, 'min_samples_split': 10, 'n_estimators': 100}\n",
      "Mean MSE: 1312.72, Parameters: {'max_depth': None, 'min_samples_split': 10, 'n_estimators': 150}\n",
      "Mean MSE: 1090.87, Parameters: {'max_depth': 10, 'min_samples_split': 2, 'n_estimators': 50}\n",
      "Mean MSE: 1102.51, Parameters: {'max_depth': 10, 'min_samples_split': 2, 'n_estimators': 100}\n",
      "Mean MSE: 1107.52, Parameters: {'max_depth': 10, 'min_samples_split': 2, 'n_estimators': 150}\n",
      "Mean MSE: 1183.65, Parameters: {'max_depth': 10, 'min_samples_split': 5, 'n_estimators': 50}\n",
      "Mean MSE: 1195.44, Parameters: {'max_depth': 10, 'min_samples_split': 5, 'n_estimators': 100}\n",
      "Mean MSE: 1202.40, Parameters: {'max_depth': 10, 'min_samples_split': 5, 'n_estimators': 150}\n",
      "Mean MSE: 1275.77, Parameters: {'max_depth': 10, 'min_samples_split': 10, 'n_estimators': 50}\n",
      "Mean MSE: 1310.43, Parameters: {'max_depth': 10, 'min_samples_split': 10, 'n_estimators': 100}\n",
      "Mean MSE: 1316.39, Parameters: {'max_depth': 10, 'min_samples_split': 10, 'n_estimators': 150}\n",
      "Mean MSE: 1066.46, Parameters: {'max_depth': 20, 'min_samples_split': 2, 'n_estimators': 50}\n",
      "Mean MSE: 1076.75, Parameters: {'max_depth': 20, 'min_samples_split': 2, 'n_estimators': 100}\n",
      "Mean MSE: 1077.81, Parameters: {'max_depth': 20, 'min_samples_split': 2, 'n_estimators': 150}\n",
      "Mean MSE: 1172.69, Parameters: {'max_depth': 20, 'min_samples_split': 5, 'n_estimators': 50}\n",
      "Mean MSE: 1190.78, Parameters: {'max_depth': 20, 'min_samples_split': 5, 'n_estimators': 100}\n",
      "Mean MSE: 1197.76, Parameters: {'max_depth': 20, 'min_samples_split': 5, 'n_estimators': 150}\n",
      "Mean MSE: 1271.88, Parameters: {'max_depth': 20, 'min_samples_split': 10, 'n_estimators': 50}\n",
      "Mean MSE: 1306.76, Parameters: {'max_depth': 20, 'min_samples_split': 10, 'n_estimators': 100}\n",
      "Mean MSE: 1312.72, Parameters: {'max_depth': 20, 'min_samples_split': 10, 'n_estimators': 150}\n"
     ]
    }
   ],
   "source": [
    "# Train the Random Forest Regression model and evaluate its performance\n",
    "print(\"Training Random Forest Regressor...\")\n",
    "\n",
    "# Initialize the base Random Forest model\n",
    "reg = RandomForestRegressor(random_state=42)\n",
    "\n",
    "# Define the hyperparameter grid for tuning\n",
    "print(\"Defining hyperparameter grid...\")\n",
    "param_grid = {\n",
    "    'n_estimators': [50, 100, 150],  # Number of trees in the forest. Lower values train faster; higher values may improve accuracy.\n",
    "    'max_depth': [None, 10, 20],     # Maximum depth of trees. None allows fully expanded trees.\n",
    "    'min_samples_split': [2, 5, 10]  # Minimum samples required to split an internal node. Higher values reduce overfitting.\n",
    "}\n",
    "\n",
    "# Perform Grid Search with cross-validation\n",
    "print(\"Starting Grid Search...\")\n",
    "grid_search = GridSearchCV(\n",
    "    estimator=reg, \n",
    "    param_grid=param_grid, \n",
    "    cv=3, \n",
    "    scoring='neg_mean_squared_error', \n",
    "    verbose=1\n",
    ")\n",
    "grid_search.fit(X_train, y_train)  # Train the model with Grid Search\n",
    "\n",
    "# Retrieve the best hyperparameters\n",
    "best_params = grid_search.best_params_\n",
    "print(\"\\nBest Parameters Found:\")\n",
    "print(best_params)\n",
    "\n",
    "# Train the model using the best hyperparameters\n",
    "print(\"\\nTraining the model with the best parameters...\")\n",
    "best_reg = RandomForestRegressor(**best_params, random_state=42)\n",
    "best_reg.fit(X_train, y_train)\n",
    "\n",
    "# Make predictions on the test set\n",
    "print(\"\\nMaking predictions...\")\n",
    "predictions = best_reg.predict(X_test)\n",
    "\n",
    "# Evaluate the model's performance using Mean Squared Error (MSE)\n",
    "mse = mean_squared_error(y_test, predictions)\n",
    "print(\"\\nModel Evaluation:\")\n",
    "print(f\"Mean Squared Error (MSE): {mse:.2f}\")\n",
    "\n",
    "# Display a summary of Grid Search results\n",
    "print(\"\\nGrid Search Results:\")\n",
    "# Loop through the Grid Search results to display each parameter combination with its mean score\n",
    "for mean_score, params in zip(grid_search.cv_results_['mean_test_score'], grid_search.cv_results_['params']):\n",
    "    print(f\"Mean MSE: {-mean_score:.2f}, Parameters: {params}\")\n"
   ]
  },
  {
   "cell_type": "markdown",
   "id": "942688ba-7415-4447-aac0-158258ef894f",
   "metadata": {},
   "source": [
    "The Random Forest Regressor was trained using GridSearchCV to optimize hyperparameters by systematically evaluating different combinations. A total of 27 combinations were tested across 3-fold cross-validation, resulting in 81 fits. The best parameters identified were:\n",
    "\n",
    "max_depth: None (no limit on tree depth).\n",
    "min_samples_split: 2 (minimum samples required to split an internal node).\n",
    "n_estimators: 50 (number of trees in the forest).\n",
    "This combination achieved the lowest Mean Squared Error (MSE) of 363.01 on the validation data.\n",
    "\n",
    "The grid search results display the mean MSE for each tested parameter combination. The process helps ensure that the model is tuned to balance training accuracy and generalization to unseen data. Using fewer trees (n_estimators=50) provides faster training while maintaining accuracy, and limiting min_samples_split helps the model capture finer details."
   ]
  },
  {
   "cell_type": "markdown",
   "id": "ce48f985-2566-4f41-8d18-d4044772fbdc",
   "metadata": {},
   "source": [
    "### Step 5: Visualize in graphs"
   ]
  },
  {
   "cell_type": "code",
   "execution_count": 8,
   "id": "d553121f-fac9-4481-9ade-47a1e291a66e",
   "metadata": {},
   "outputs": [
    {
     "name": "stdout",
     "output_type": "stream",
     "text": [
      "Visualizing feature importance...\n"
     ]
    },
    {
     "data": {
      "image/png": "[encoded data removed]",
      "text/plain": [
       "<Figure size 640x480 with 1 Axes>"
      ]
     },
     "metadata": {},
     "output_type": "display_data"
    },
    {
     "name": "stdout",
     "output_type": "stream",
     "text": [
      "Plotting predictions vs actual values...\n"
     ]
    },
    {
     "data": {
      "image/png": "[encoded data removed]",
      "text/plain": [
       "<Figure size 640x480 with 1 Axes>"
      ]
     },
     "metadata": {},
     "output_type": "display_data"
    }
   ],
   "source": [
    "print(\"Visualizing feature importance...\")\n",
    "feature_importance = pd.Series(best_reg.feature_importances_, index=['Quantity', 'Price', 'Country'])\n",
    "feature_importance.sort_values().plot(kind='barh', title='Feature Importances')\n",
    "plt.xlabel('Importance')\n",
    "plt.ylabel('Features')\n",
    "plt.show()\n",
    "\n",
    "print(\"Plotting predictions vs actual values...\")\n",
    "plt.scatter(y_test, predictions, alpha=0.5)\n",
    "plt.xlabel('Actual Values')\n",
    "plt.ylabel('Predicted Values')\n",
    "plt.title('Predictions vs Actual')\n",
    "plt.show()"
   ]
  },
  {
   "cell_type": "markdown",
   "id": "6a0c94d3-2a30-4661-9e09-aca03ea8e3dc",
   "metadata": {},
   "source": [
    "Feature Importances:\n",
    "\n",
    "The bar chart shows the relative importance of each feature (Quantity, Price, and Country) in the Random Forest model.\n",
    "Quantity is the most important feature, contributing significantly to the predictions.\n",
    "Price also has substantial importance but less than Quantity.\n",
    "Country has minimal importance, indicating that it contributes little to the model's predictions.\n",
    "This visualization helps identify which features the model relies on most for making predictions.\n",
    "\n",
    "Predictions vs Actual Values:\n",
    "\n",
    "The scatter plot compares the predicted values (y-axis) with the actual values (x-axis) from the test data.\n",
    "The points are closely aligned along the diagonal line (y=x), indicating that the model performs well, with predictions close to the actual values.\n",
    "Some deviation can be observed for higher values, where predictions are less precise.\n",
    "This plot helps evaluate the model's accuracy and identify any systematic errors or outliers in predictions."
   ]
  },
  {
   "cell_type": "code",
   "execution_count": null,
   "id": "d58cd6d7-1a0a-4942-9d9e-639719f48cd9",
   "metadata": {},
   "outputs": [],
   "source": []
  }
 ],
 "metadata": {
  "kernelspec": {
   "display_name": "Python 3 (ipykernel)",
   "language": "python",
   "name": "python3"
  },
  "language_info": {
   "codemirror_mode": {
    "name": "ipython",
    "version": 3
   },
   "file_extension": ".py",
   "mimetype": "text/x-python",
   "name": "python",
   "nbconvert_exporter": "python",
   "pygments_lexer": "ipython3",
   "version": "3.12.7"
  }
 },
 "nbformat": 4,
 "nbformat_minor": 5
}
